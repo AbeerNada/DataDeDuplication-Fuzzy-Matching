{
  "nbformat": 4,
  "nbformat_minor": 0,
  "metadata": {
    "colab": {
      "name": "DeduplicationUseCase1AbeerNada.ipynb",
      "provenance": [],
      "collapsed_sections": []
    },
    "kernelspec": {
      "name": "python3",
      "display_name": "Python 3"
    },
    "language_info": {
      "name": "python"
    }
  },
  "cells": [
    {
      "cell_type": "code",
      "execution_count": null,
      "metadata": {
        "colab": {
          "base_uri": "https://localhost:8080/"
        },
        "id": "Z6kvqS7DMV_K",
        "outputId": "9281f92e-50e7-4964-ee97-96476bee2100"
      },
      "outputs": [
        {
          "output_type": "stream",
          "name": "stdout",
          "text": [
            "Collecting pandas-dedupe\n",
            "  Downloading pandas_dedupe-1.5.0-py3-none-any.whl (12 kB)\n",
            "Collecting unidecode\n",
            "  Downloading Unidecode-1.3.4-py3-none-any.whl (235 kB)\n",
            "\u001b[?25l\r\u001b[K     |█▍                              | 10 kB 18.2 MB/s eta 0:00:01\r\u001b[K     |██▉                             | 20 kB 24.8 MB/s eta 0:00:01\r\u001b[K     |████▏                           | 30 kB 29.5 MB/s eta 0:00:01\r\u001b[K     |█████▋                          | 40 kB 28.7 MB/s eta 0:00:01\r\u001b[K     |███████                         | 51 kB 24.6 MB/s eta 0:00:01\r\u001b[K     |████████▍                       | 61 kB 26.6 MB/s eta 0:00:01\r\u001b[K     |█████████▊                      | 71 kB 27.8 MB/s eta 0:00:01\r\u001b[K     |███████████▏                    | 81 kB 25.3 MB/s eta 0:00:01\r\u001b[K     |████████████▌                   | 92 kB 27.2 MB/s eta 0:00:01\r\u001b[K     |██████████████                  | 102 kB 28.9 MB/s eta 0:00:01\r\u001b[K     |███████████████▎                | 112 kB 28.9 MB/s eta 0:00:01\r\u001b[K     |████████████████▊               | 122 kB 28.9 MB/s eta 0:00:01\r\u001b[K     |██████████████████              | 133 kB 28.9 MB/s eta 0:00:01\r\u001b[K     |███████████████████▌            | 143 kB 28.9 MB/s eta 0:00:01\r\u001b[K     |████████████████████▉           | 153 kB 28.9 MB/s eta 0:00:01\r\u001b[K     |██████████████████████▎         | 163 kB 28.9 MB/s eta 0:00:01\r\u001b[K     |███████████████████████▋        | 174 kB 28.9 MB/s eta 0:00:01\r\u001b[K     |█████████████████████████       | 184 kB 28.9 MB/s eta 0:00:01\r\u001b[K     |██████████████████████████▍     | 194 kB 28.9 MB/s eta 0:00:01\r\u001b[K     |███████████████████████████▉    | 204 kB 28.9 MB/s eta 0:00:01\r\u001b[K     |█████████████████████████████▏  | 215 kB 28.9 MB/s eta 0:00:01\r\u001b[K     |██████████████████████████████▋ | 225 kB 28.9 MB/s eta 0:00:01\r\u001b[K     |████████████████████████████████| 235 kB 28.9 MB/s eta 0:00:01\r\u001b[K     |████████████████████████████████| 235 kB 28.9 MB/s \n",
            "\u001b[?25hRequirement already satisfied: pandas in /usr/local/lib/python3.7/dist-packages (from pandas-dedupe) (1.3.5)\n",
            "Collecting dedupe>=2.0.0\n",
            "  Downloading dedupe-2.0.13.tar.gz (70 kB)\n",
            "\u001b[K     |████████████████████████████████| 70 kB 7.4 MB/s \n",
            "\u001b[?25h  Installing build dependencies ... \u001b[?25l\u001b[?25hdone\n",
            "  Getting requirements to build wheel ... \u001b[?25l\u001b[?25hdone\n",
            "    Preparing wheel metadata ... \u001b[?25l\u001b[?25hdone\n",
            "Collecting dedupe-hcluster\n",
            "  Downloading dedupe_hcluster-0.3.9-cp37-cp37m-manylinux_2_5_x86_64.manylinux1_x86_64.manylinux_2_12_x86_64.manylinux2010_x86_64.whl (583 kB)\n",
            "\u001b[K     |████████████████████████████████| 583 kB 58.4 MB/s \n",
            "\u001b[?25hCollecting highered>=0.2.0\n",
            "  Downloading highered-0.2.1-py2.py3-none-any.whl (3.3 kB)\n",
            "Collecting simplecosine>=1.2\n",
            "  Downloading simplecosine-1.2-py2.py3-none-any.whl (3.2 kB)\n",
            "Collecting Levenshtein-search==1.4.5\n",
            "  Downloading Levenshtein_search-1.4.5-cp37-cp37m-manylinux_2_5_x86_64.manylinux1_x86_64.whl (71 kB)\n",
            "\u001b[K     |████████████████████████████████| 71 kB 7.9 MB/s \n",
            "\u001b[?25hCollecting dedupe-variable-datetime\n",
            "  Downloading dedupe_variable_datetime-0.1.5-py3-none-any.whl (4.8 kB)\n",
            "Collecting categorical-distance>=1.9\n",
            "  Downloading categorical_distance-1.9-py3-none-any.whl (3.3 kB)\n",
            "Requirement already satisfied: numpy>=1.13 in /usr/local/lib/python3.7/dist-packages (from dedupe>=2.0.0->pandas-dedupe) (1.21.5)\n",
            "Collecting haversine>=0.4.1\n",
            "  Downloading haversine-2.5.1-py2.py3-none-any.whl (6.1 kB)\n",
            "Collecting BTrees>=4.1.4\n",
            "  Downloading BTrees-4.10.0-cp37-cp37m-manylinux_2_5_x86_64.manylinux1_x86_64.manylinux_2_12_x86_64.manylinux2010_x86_64.whl (3.6 MB)\n",
            "\u001b[K     |████████████████████████████████| 3.6 MB 54.9 MB/s \n",
            "\u001b[?25hCollecting zope.index\n",
            "  Downloading zope.index-5.2.0-cp37-cp37m-manylinux_2_5_x86_64.manylinux1_x86_64.manylinux_2_12_x86_64.manylinux2010_x86_64.whl (105 kB)\n",
            "\u001b[K     |████████████████████████████████| 105 kB 65.9 MB/s \n",
            "\u001b[?25hRequirement already satisfied: typing-extensions in /usr/local/lib/python3.7/dist-packages (from dedupe>=2.0.0->pandas-dedupe) (3.10.0.2)\n",
            "Collecting fastcluster\n",
            "  Downloading fastcluster-1.2.6-cp37-cp37m-manylinux_2_5_x86_64.manylinux1_x86_64.manylinux_2_17_x86_64.manylinux2014_x86_64.whl (194 kB)\n",
            "\u001b[K     |████████████████████████████████| 194 kB 66.7 MB/s \n",
            "\u001b[?25hCollecting doublemetaphone\n",
            "  Downloading DoubleMetaphone-1.1-cp37-cp37m-manylinux_2_5_x86_64.manylinux1_x86_64.manylinux_2_12_x86_64.manylinux2010_x86_64.whl (150 kB)\n",
            "\u001b[K     |████████████████████████████████| 150 kB 51.6 MB/s \n",
            "\u001b[?25hCollecting affinegap>=1.3\n",
            "  Downloading affinegap-1.12-cp37-cp37m-manylinux_2_5_x86_64.manylinux1_x86_64.manylinux_2_12_x86_64.manylinux2010_x86_64.whl (55 kB)\n",
            "\u001b[K     |████████████████████████████████| 55 kB 4.0 MB/s \n",
            "\u001b[?25hCollecting rlr>=2.4.3\n",
            "  Downloading rlr-2.4.6-py2.py3-none-any.whl (6.0 kB)\n",
            "Collecting persistent>=4.1.0\n",
            "  Downloading persistent-4.9.0-cp37-cp37m-manylinux_2_5_x86_64.manylinux1_x86_64.manylinux_2_12_x86_64.manylinux2010_x86_64.whl (253 kB)\n",
            "\u001b[K     |████████████████████████████████| 253 kB 55.7 MB/s \n",
            "\u001b[?25hCollecting zope.interface>=5.0.0\n",
            "  Downloading zope.interface-5.4.0-cp37-cp37m-manylinux2010_x86_64.whl (251 kB)\n",
            "\u001b[K     |████████████████████████████████| 251 kB 50.8 MB/s \n",
            "\u001b[?25hCollecting pyhacrf-datamade>=0.2.0\n",
            "  Downloading pyhacrf_datamade-0.2.6-cp37-cp37m-manylinux_2_17_x86_64.manylinux2014_x86_64.whl (972 kB)\n",
            "\u001b[K     |████████████████████████████████| 972 kB 55.1 MB/s \n",
            "\u001b[?25hRequirement already satisfied: cffi in /usr/local/lib/python3.7/dist-packages (from persistent>=4.1.0->BTrees>=4.1.4->dedupe>=2.0.0->pandas-dedupe) (1.15.0)\n",
            "Collecting PyLBFGS>=0.1.3\n",
            "  Downloading PyLBFGS-0.2.0.14-cp37-cp37m-manylinux_2_5_x86_64.manylinux1_x86_64.manylinux_2_12_x86_64.manylinux2010_x86_64.whl (239 kB)\n",
            "\u001b[K     |████████████████████████████████| 239 kB 64.8 MB/s \n",
            "\u001b[?25hRequirement already satisfied: setuptools in /usr/local/lib/python3.7/dist-packages (from zope.interface>=5.0.0->BTrees>=4.1.4->dedupe>=2.0.0->pandas-dedupe) (57.4.0)\n",
            "Requirement already satisfied: pycparser in /usr/local/lib/python3.7/dist-packages (from cffi->persistent>=4.1.0->BTrees>=4.1.4->dedupe>=2.0.0->pandas-dedupe) (2.21)\n",
            "Collecting datetime-distance\n",
            "  Downloading datetime_distance-0.1.3-py3-none-any.whl (4.1 kB)\n",
            "Requirement already satisfied: future in /usr/local/lib/python3.7/dist-packages (from dedupe-variable-datetime->dedupe>=2.0.0->pandas-dedupe) (0.16.0)\n",
            "Requirement already satisfied: python-dateutil>=2.6.0 in /usr/local/lib/python3.7/dist-packages (from datetime-distance->dedupe-variable-datetime->dedupe>=2.0.0->pandas-dedupe) (2.8.2)\n",
            "Requirement already satisfied: six>=1.5 in /usr/local/lib/python3.7/dist-packages (from python-dateutil>=2.6.0->datetime-distance->dedupe-variable-datetime->dedupe>=2.0.0->pandas-dedupe) (1.15.0)\n",
            "Requirement already satisfied: pytz>=2017.3 in /usr/local/lib/python3.7/dist-packages (from pandas->pandas-dedupe) (2018.9)\n",
            "Building wheels for collected packages: dedupe\n",
            "  Building wheel for dedupe (PEP 517) ... \u001b[?25l\u001b[?25hdone\n",
            "  Created wheel for dedupe: filename=dedupe-2.0.13-cp37-cp37m-linux_x86_64.whl size=96741 sha256=bebacb3b22fa39ab1529f1aae726550c1992595fadd0b7ecdda98e413fc4cfd2\n",
            "  Stored in directory: /root/.cache/pip/wheels/f5/04/56/35c317183ef6c7ad07f0e74273da5ed443fb680482dc4e0130\n",
            "Successfully built dedupe\n",
            "Installing collected packages: zope.interface, PyLBFGS, persistent, pyhacrf-datamade, datetime-distance, BTrees, zope.index, simplecosine, rlr, Levenshtein-search, highered, haversine, fastcluster, doublemetaphone, dedupe-variable-datetime, dedupe-hcluster, categorical-distance, affinegap, unidecode, dedupe, pandas-dedupe\n",
            "Successfully installed BTrees-4.10.0 Levenshtein-search-1.4.5 PyLBFGS-0.2.0.14 affinegap-1.12 categorical-distance-1.9 datetime-distance-0.1.3 dedupe-2.0.13 dedupe-hcluster-0.3.9 dedupe-variable-datetime-0.1.5 doublemetaphone-1.1 fastcluster-1.2.6 haversine-2.5.1 highered-0.2.1 pandas-dedupe-1.5.0 persistent-4.9.0 pyhacrf-datamade-0.2.6 rlr-2.4.6 simplecosine-1.2 unidecode-1.3.4 zope.index-5.2.0 zope.interface-5.4.0\n"
          ]
        }
      ],
      "source": [
        "pip install pandas-dedupe"
      ]
    },
    {
      "cell_type": "code",
      "source": [
        "import pandas as pd\n",
        "import pandas_dedupe "
      ],
      "metadata": {
        "id": "uBOUAqcNSYBW"
      },
      "execution_count": null,
      "outputs": []
    },
    {
      "cell_type": "markdown",
      "source": [
        "The below used file is a cleaned union if the two sets (Dataset1 & dataset2). It was transformed and generated using AWS Databrew service and stored in S3 bucket - (Further deayils in documentation)\n",
        "Downloaded to local PC and used here ( There were an error in the AWS Glue service and time was not enough to trace it)"
      ],
      "metadata": {
        "id": "8tbK6nysYwO_"
      }
    },
    {
      "cell_type": "code",
      "source": [
        "df_Transformed = pd.read_csv('TransformedDataSets.csv', encoding= 'latin-1')"
      ],
      "metadata": {
        "id": "ZSSFWq1vSYZf"
      },
      "execution_count": 3,
      "outputs": []
    },
    {
      "cell_type": "code",
      "source": [
        "df_Transformed.head()"
      ],
      "metadata": {
        "colab": {
          "base_uri": "https://localhost:8080/",
          "height": 563
        },
        "id": "IllqEEVOYosi",
        "outputId": "2d05b6f9-f431-413b-cda9-29090c663b5f"
      },
      "execution_count": 4,
      "outputs": [
        {
          "output_type": "execute_result",
          "data": {
            "text/plain": [
              "                             id  \\\n",
              "0  conf_vldb_RusinkiewiczKTWM95   \n",
              "1  journals_sigmod_EisenbergM02   \n",
              "2          conf_vldb_AmmannJR95   \n",
              "3         journals_sigmod_Liu02   \n",
              "4      journals_sigmod_Hammer02   \n",
              "\n",
              "                                               title  \\\n",
              "0  Towards a Cooperative Transaction Model - The ...   \n",
              "1                    SQL/XML is Making Good Progress   \n",
              "2  Using Formal Methods to Reason about Semantics...   \n",
              "3                                     Editor's Notes   \n",
              "4  Report on the ACM Fourth International Worksho...   \n",
              "\n",
              "                                             authors          venue    year  \\\n",
              "0  M Rusinkiewicz, W Klas, T Tesch, J Wï¿½sch, P ...           VLDB  1995.0   \n",
              "1                              A Eisenberg, J Melton  SIGMOD Record  2002.0   \n",
              "2                         P Ammann, S Jajodia, I Ray           VLDB  1995.0   \n",
              "3                                              L Liu  SIGMOD Record  2002.0   \n",
              "4                                                NaN            NaN  2002.0   \n",
              "\n",
              "     Source  \n",
              "0  dataset1  \n",
              "1  dataset1  \n",
              "2  dataset1  \n",
              "3  dataset1  \n",
              "4  dataset1  "
            ],
            "text/html": [
              "\n",
              "  <div id=\"df-ae041e21-ab39-4fed-8a6b-1c0f8523a9bb\">\n",
              "    <div class=\"colab-df-container\">\n",
              "      <div>\n",
              "<style scoped>\n",
              "    .dataframe tbody tr th:only-of-type {\n",
              "        vertical-align: middle;\n",
              "    }\n",
              "\n",
              "    .dataframe tbody tr th {\n",
              "        vertical-align: top;\n",
              "    }\n",
              "\n",
              "    .dataframe thead th {\n",
              "        text-align: right;\n",
              "    }\n",
              "</style>\n",
              "<table border=\"1\" class=\"dataframe\">\n",
              "  <thead>\n",
              "    <tr style=\"text-align: right;\">\n",
              "      <th></th>\n",
              "      <th>id</th>\n",
              "      <th>title</th>\n",
              "      <th>authors</th>\n",
              "      <th>venue</th>\n",
              "      <th>year</th>\n",
              "      <th>Source</th>\n",
              "    </tr>\n",
              "  </thead>\n",
              "  <tbody>\n",
              "    <tr>\n",
              "      <th>0</th>\n",
              "      <td>conf_vldb_RusinkiewiczKTWM95</td>\n",
              "      <td>Towards a Cooperative Transaction Model - The ...</td>\n",
              "      <td>M Rusinkiewicz, W Klas, T Tesch, J Wï¿½sch, P ...</td>\n",
              "      <td>VLDB</td>\n",
              "      <td>1995.0</td>\n",
              "      <td>dataset1</td>\n",
              "    </tr>\n",
              "    <tr>\n",
              "      <th>1</th>\n",
              "      <td>journals_sigmod_EisenbergM02</td>\n",
              "      <td>SQL/XML is Making Good Progress</td>\n",
              "      <td>A Eisenberg, J Melton</td>\n",
              "      <td>SIGMOD Record</td>\n",
              "      <td>2002.0</td>\n",
              "      <td>dataset1</td>\n",
              "    </tr>\n",
              "    <tr>\n",
              "      <th>2</th>\n",
              "      <td>conf_vldb_AmmannJR95</td>\n",
              "      <td>Using Formal Methods to Reason about Semantics...</td>\n",
              "      <td>P Ammann, S Jajodia, I Ray</td>\n",
              "      <td>VLDB</td>\n",
              "      <td>1995.0</td>\n",
              "      <td>dataset1</td>\n",
              "    </tr>\n",
              "    <tr>\n",
              "      <th>3</th>\n",
              "      <td>journals_sigmod_Liu02</td>\n",
              "      <td>Editor's Notes</td>\n",
              "      <td>L Liu</td>\n",
              "      <td>SIGMOD Record</td>\n",
              "      <td>2002.0</td>\n",
              "      <td>dataset1</td>\n",
              "    </tr>\n",
              "    <tr>\n",
              "      <th>4</th>\n",
              "      <td>journals_sigmod_Hammer02</td>\n",
              "      <td>Report on the ACM Fourth International Worksho...</td>\n",
              "      <td>NaN</td>\n",
              "      <td>NaN</td>\n",
              "      <td>2002.0</td>\n",
              "      <td>dataset1</td>\n",
              "    </tr>\n",
              "  </tbody>\n",
              "</table>\n",
              "</div>\n",
              "      <button class=\"colab-df-convert\" onclick=\"convertToInteractive('df-ae041e21-ab39-4fed-8a6b-1c0f8523a9bb')\"\n",
              "              title=\"Convert this dataframe to an interactive table.\"\n",
              "              style=\"display:none;\">\n",
              "        \n",
              "  <svg xmlns=\"http://www.w3.org/2000/svg\" height=\"24px\"viewBox=\"0 0 24 24\"\n",
              "       width=\"24px\">\n",
              "    <path d=\"M0 0h24v24H0V0z\" fill=\"none\"/>\n",
              "    <path d=\"M18.56 5.44l.94 2.06.94-2.06 2.06-.94-2.06-.94-.94-2.06-.94 2.06-2.06.94zm-11 1L8.5 8.5l.94-2.06 2.06-.94-2.06-.94L8.5 2.5l-.94 2.06-2.06.94zm10 10l.94 2.06.94-2.06 2.06-.94-2.06-.94-.94-2.06-.94 2.06-2.06.94z\"/><path d=\"M17.41 7.96l-1.37-1.37c-.4-.4-.92-.59-1.43-.59-.52 0-1.04.2-1.43.59L10.3 9.45l-7.72 7.72c-.78.78-.78 2.05 0 2.83L4 21.41c.39.39.9.59 1.41.59.51 0 1.02-.2 1.41-.59l7.78-7.78 2.81-2.81c.8-.78.8-2.07 0-2.86zM5.41 20L4 18.59l7.72-7.72 1.47 1.35L5.41 20z\"/>\n",
              "  </svg>\n",
              "      </button>\n",
              "      \n",
              "  <style>\n",
              "    .colab-df-container {\n",
              "      display:flex;\n",
              "      flex-wrap:wrap;\n",
              "      gap: 12px;\n",
              "    }\n",
              "\n",
              "    .colab-df-convert {\n",
              "      background-color: #E8F0FE;\n",
              "      border: none;\n",
              "      border-radius: 50%;\n",
              "      cursor: pointer;\n",
              "      display: none;\n",
              "      fill: #1967D2;\n",
              "      height: 32px;\n",
              "      padding: 0 0 0 0;\n",
              "      width: 32px;\n",
              "    }\n",
              "\n",
              "    .colab-df-convert:hover {\n",
              "      background-color: #E2EBFA;\n",
              "      box-shadow: 0px 1px 2px rgba(60, 64, 67, 0.3), 0px 1px 3px 1px rgba(60, 64, 67, 0.15);\n",
              "      fill: #174EA6;\n",
              "    }\n",
              "\n",
              "    [theme=dark] .colab-df-convert {\n",
              "      background-color: #3B4455;\n",
              "      fill: #D2E3FC;\n",
              "    }\n",
              "\n",
              "    [theme=dark] .colab-df-convert:hover {\n",
              "      background-color: #434B5C;\n",
              "      box-shadow: 0px 1px 3px 1px rgba(0, 0, 0, 0.15);\n",
              "      filter: drop-shadow(0px 1px 2px rgba(0, 0, 0, 0.3));\n",
              "      fill: #FFFFFF;\n",
              "    }\n",
              "  </style>\n",
              "\n",
              "      <script>\n",
              "        const buttonEl =\n",
              "          document.querySelector('#df-ae041e21-ab39-4fed-8a6b-1c0f8523a9bb button.colab-df-convert');\n",
              "        buttonEl.style.display =\n",
              "          google.colab.kernel.accessAllowed ? 'block' : 'none';\n",
              "\n",
              "        async function convertToInteractive(key) {\n",
              "          const element = document.querySelector('#df-ae041e21-ab39-4fed-8a6b-1c0f8523a9bb');\n",
              "          const dataTable =\n",
              "            await google.colab.kernel.invokeFunction('convertToInteractive',\n",
              "                                                     [key], {});\n",
              "          if (!dataTable) return;\n",
              "\n",
              "          const docLinkHtml = 'Like what you see? Visit the ' +\n",
              "            '<a target=\"_blank\" href=https://colab.research.google.com/notebooks/data_table.ipynb>data table notebook</a>'\n",
              "            + ' to learn more about interactive tables.';\n",
              "          element.innerHTML = '';\n",
              "          dataTable['output_type'] = 'display_data';\n",
              "          await google.colab.output.renderOutput(dataTable, element);\n",
              "          const docLink = document.createElement('div');\n",
              "          docLink.innerHTML = docLinkHtml;\n",
              "          element.appendChild(docLink);\n",
              "        }\n",
              "      </script>\n",
              "    </div>\n",
              "  </div>\n",
              "  "
            ]
          },
          "metadata": {},
          "execution_count": 4
        }
      ]
    },
    {
      "cell_type": "code",
      "source": [
        "df_Transformed.info()"
      ],
      "metadata": {
        "colab": {
          "base_uri": "https://localhost:8080/"
        },
        "id": "wp0zlHLqZwrU",
        "outputId": "7579fafe-615f-489e-ddd8-84c237d7f517"
      },
      "execution_count": 5,
      "outputs": [
        {
          "output_type": "stream",
          "name": "stdout",
          "text": [
            "<class 'pandas.core.frame.DataFrame'>\n",
            "RangeIndex: 66879 entries, 0 to 66878\n",
            "Data columns (total 6 columns):\n",
            " #   Column   Non-Null Count  Dtype  \n",
            "---  ------   --------------  -----  \n",
            " 0   id       66879 non-null  object \n",
            " 1   title    66879 non-null  object \n",
            " 2   authors  66660 non-null  object \n",
            " 3   venue    51671 non-null  object \n",
            " 4   year     32089 non-null  float64\n",
            " 5   Source   66879 non-null  object \n",
            "dtypes: float64(1), object(5)\n",
            "memory usage: 3.1+ MB\n"
          ]
        }
      ]
    },
    {
      "cell_type": "code",
      "source": [
        "\n",
        "\n",
        "\n",
        "\n",
        "\n",
        "\n",
        "u\n",
        "\n",
        "\n",
        "\n",
        "\n",
        "\n",
        "\n",
        "\n",
        "\n",
        "\n",
        "\n",
        "\n",
        "\n",
        "\n",
        "\n",
        "\n",
        "\n",
        "\n",
        "\n",
        "\n",
        "\n",
        "\n",
        "\n",
        "\n",
        "\n",
        "\n",
        "\n",
        "\n",
        "\n",
        "\n",
        "\n",
        "\n",
        "\n",
        "\n",
        "\n",
        "\n",
        "\n",
        "\n",
        "\n",
        "\n",
        "\n",
        "\n",
        "\n",
        "\n",
        "\n",
        "\n",
        "\n",
        "\n",
        "\n",
        "\n",
        "\n",
        "\n",
        "\n",
        "\n",
        "\n",
        "\n",
        "\n",
        "\n",
        "\n",
        "\n",
        "\n",
        "\n",
        "\n",
        "\n",
        "\n",
        "\n",
        "\n",
        "\n",
        "\n",
        "\n",
        "\n",
        "\n",
        "\n",
        "\n",
        "\n",
        "\n",
        "\n",
        "\n",
        "\n",
        "\n",
        "\n",
        "\n",
        "\n",
        "\n",
        "\n",
        "\n",
        "\n",
        "\n",
        "\n",
        "\n",
        "\n",
        "\n",
        "\n",
        "\n",
        "\n",
        "\n",
        "\n",
        "\n",
        "\n",
        "\n",
        "\n",
        "\n",
        "\n",
        "\n",
        "\n",
        "\n",
        "\n",
        "\n",
        "\n",
        "\n",
        "\n",
        "\n",
        "\n",
        "\n",
        "\n",
        "\n",
        "\n",
        "\n",
        "\n",
        "\n",
        "\n",
        "\n",
        "\n",
        "\n",
        "\n",
        "\n",
        "\n",
        "df_Transformed_New = pandas_dedupe.dedupe_dataframe(df_Transformed,['title','authors','venue'])"
      ],
      "metadata": {
        "colab": {
          "base_uri": "https://localhost:8080/"
        },
        "id": "INKLE-VXbdPY",
        "outputId": "617a80ce-00b7-4bb2-e932-a7f027438dc1"
      },
      "execution_count": 6,
      "outputs": [
        {
          "output_type": "stream",
          "name": "stdout",
          "text": [
            "Importing data ...\n"
          ]
        },
        {
          "output_type": "stream",
          "name": "stderr",
          "text": [
            "/usr/local/lib/python3.7/dist-packages/pandas_dedupe/utility_functions.py:17: FutureWarning: The default value of regex will change from True to False in a future version.\n",
            "  df[i] = df[i].str.replace('[^\\w\\s\\.\\-\\(\\)\\,\\:\\/\\\\\\\\]','')\n"
          ]
        },
        {
          "output_type": "stream",
          "name": "stdout",
          "text": [
            "Starting active labeling...\n"
          ]
        },
        {
          "output_type": "stream",
          "name": "stderr",
          "text": [
            "title : microsoft. com: a high-scale data management and transaction processing solution proc\n",
            "authors : s kennamer\n",
            "venue : acm sigmod,\n",
            "\n",
            "title : microsoft. com: a high-scale data management and transaction processing solution\n",
            "authors : s kennamer\n",
            "venue : proceedings of the 1998 acm sigmod international conference hellip,\n",
            "\n",
            "0/10 positive, 0/10 negative\n",
            "Do these records refer to the same thing?\n",
            "(y)es / (n)o / (u)nsure / (f)inished\n"
          ]
        },
        {
          "name": "stdout",
          "output_type": "stream",
          "text": [
            "y\n"
          ]
        },
        {
          "output_type": "stream",
          "name": "stderr",
          "text": [
            "title : managing uncertainty in sensor database\n",
            "authors : r cheng, s prabhakar\n",
            "venue : sigmod record\n",
            "\n",
            "title : managing uncertainty in sensor databases\n",
            "authors : r cheng, s prabhakar\n",
            "venue : sigmod record,\n",
            "\n",
            "1/10 positive, 0/10 negative\n",
            "Do these records refer to the same thing?\n",
            "(y)es / (n)o / (u)nsure / (f)inished / (p)revious\n"
          ]
        },
        {
          "name": "stdout",
          "output_type": "stream",
          "text": [
            "y\n"
          ]
        },
        {
          "output_type": "stream",
          "name": "stderr",
          "text": [
            "title : synthesizing independent database schemas proc\n",
            "authors : j biskup, u dayal, pa bernstein\n",
            "venue : acmsigmod int conf management of data, boston, mass, may,\n",
            "\n",
            "title : synthesizing independent database schemas\n",
            "authors : j biskup, u dayal, pa bernstein\n",
            "venue : proceedings of the 1979 acm sigmod international conference\n",
            "\n",
            "2/10 positive, 0/10 negative\n",
            "Do these records refer to the same thing?\n",
            "(y)es / (n)o / (u)nsure / (f)inished / (p)revious\n"
          ]
        },
        {
          "name": "stdout",
          "output_type": "stream",
          "text": [
            "y\n"
          ]
        },
        {
          "output_type": "stream",
          "name": "stderr",
          "text": [
            "title : capability based mediation in tsimmis, 1998\n",
            "authors : c li, r yerneni, v vassalos, h garcia-molina, y\n",
            "venue : demonstration,\n",
            "\n",
            "title : capability based mediation in tsimmis\n",
            "authors : l chen, r yerneni, v vassalos, h garcia-molina, y\n",
            "venue : sigmod-record,\n",
            "\n",
            "3/10 positive, 0/10 negative\n",
            "Do these records refer to the same thing?\n",
            "(y)es / (n)o / (u)nsure / (f)inished / (p)revious\n"
          ]
        },
        {
          "name": "stdout",
          "output_type": "stream",
          "text": [
            "y\n"
          ]
        },
        {
          "output_type": "stream",
          "name": "stderr",
          "text": [
            "title : storing semistructured data with stored\n",
            "authors : a deuntsch, m fernandez, d suciu\n",
            "venue : proceedings of acm\n",
            "\n",
            "title : storing semistructured data with stored\n",
            "authors : a deutsch, m fernandez, d suciu\n",
            "venue : sigmod conference,\n",
            "\n",
            "4/10 positive, 0/10 negative\n",
            "Do these records refer to the same thing?\n",
            "(y)es / (n)o / (u)nsure / (f)inished / (p)revious\n"
          ]
        },
        {
          "name": "stdout",
          "output_type": "stream",
          "text": [
            "y\n"
          ]
        },
        {
          "output_type": "stream",
          "name": "stderr",
          "text": [
            "title : sprint: a scalable parallel classifier for data mining\n",
            "authors : j shafer, r agrawal, m mehta\n",
            "venue : vldb,\n",
            "\n",
            "title : sprint: a scalable parallel classifier for data mining\n",
            "authors : r agrawal, m mehta, jc shafer\n",
            "venue : proc.\n",
            "\n",
            "5/10 positive, 0/10 negative\n",
            "Do these records refer to the same thing?\n",
            "(y)es / (n)o / (u)nsure / (f)inished / (p)revious\n"
          ]
        },
        {
          "name": "stdout",
          "output_type": "stream",
          "text": [
            "y\n"
          ]
        },
        {
          "output_type": "stream",
          "name": "stderr",
          "text": [
            "title : implementing data cubes efficiently\n",
            "authors : v harinarayan, a rajaraman, j ullman\n",
            "venue : sigmod conference\n",
            "\n",
            "title : implementing data cubes efficiently\n",
            "authors : vha rajaraman, jd ullman\n",
            "venue : proc. acm sigmod,\n",
            "\n",
            "6/10 positive, 0/10 negative\n",
            "Do these records refer to the same thing?\n",
            "(y)es / (n)o / (u)nsure / (f)inished / (p)revious\n"
          ]
        },
        {
          "name": "stdout",
          "output_type": "stream",
          "text": [
            "y\n"
          ]
        },
        {
          "output_type": "stream",
          "name": "stderr",
          "text": [
            "title : 198\n",
            "authors : si architekten-verein, sia untertagebau\n",
            "venue : zurich, switzerland,\n",
            "\n",
            "title : 198 1. energetics of avian molt\n",
            "authors : jr king\n",
            "venue : proc. int. omithol.\n",
            "\n",
            "7/10 positive, 0/10 negative\n",
            "Do these records refer to the same thing?\n",
            "(y)es / (n)o / (u)nsure / (f)inished / (p)revious\n"
          ]
        },
        {
          "name": "stdout",
          "output_type": "stream",
          "text": [
            "n\n"
          ]
        },
        {
          "output_type": "stream",
          "name": "stderr",
          "text": [
            "title : usa\n",
            "authors : wa seattle\n",
            "venue : to appear,\n",
            "\n",
            "title : using semantic knowledge of transactions to increase concurrency\n",
            "authors : h garcia-molina\n",
            "venue : acm tods,\n",
            "\n",
            "7/10 positive, 1/10 negative\n",
            "Do these records refer to the same thing?\n",
            "(y)es / (n)o / (u)nsure / (f)inished / (p)revious\n"
          ]
        },
        {
          "name": "stdout",
          "output_type": "stream",
          "text": [
            "n\n"
          ]
        },
        {
          "output_type": "stream",
          "name": "stderr",
          "text": [
            "title : guest editors introduction\n",
            "authors : None\n",
            "venue : None\n",
            "\n",
            "title : guest editors introduction: music in multimedia systems\n",
            "authors : w effelsberg\n",
            "venue : None\n",
            "\n",
            "7/10 positive, 2/10 negative\n",
            "Do these records refer to the same thing?\n",
            "(y)es / (n)o / (u)nsure / (f)inished / (p)revious\n"
          ]
        },
        {
          "name": "stdout",
          "output_type": "stream",
          "text": [
            "u\n"
          ]
        },
        {
          "output_type": "stream",
          "name": "stderr",
          "text": [
            "title : foreword by the vldb 98 pc chairmen: best papers of vldb 98\n",
            "authors : None\n",
            "venue : None\n",
            "\n",
            "title : foreword by the vldb98 pc chairmen\n",
            "authors : o shmueli, j widom\n",
            "venue : the vldb journal the international journal on very large hellip,\n",
            "\n",
            "7/10 positive, 2/10 negative\n",
            "Do these records refer to the same thing?\n",
            "(y)es / (n)o / (u)nsure / (f)inished / (p)revious\n"
          ]
        },
        {
          "name": "stdout",
          "output_type": "stream",
          "text": [
            "u\n"
          ]
        },
        {
          "output_type": "stream",
          "name": "stderr",
          "text": [
            "title : the exodus optimizer generator, procs\n",
            "authors : g graefe, d dewitt\n",
            "venue : acm sigmod (san francisco, may\n",
            "\n",
            "title : the exodus optimizer generator\n",
            "authors : g graefe\n",
            "venue : None\n",
            "\n",
            "7/10 positive, 2/10 negative\n",
            "Do these records refer to the same thing?\n",
            "(y)es / (n)o / (u)nsure / (f)inished / (p)revious\n"
          ]
        },
        {
          "name": "stdout",
          "output_type": "stream",
          "text": [
            "y\n"
          ]
        },
        {
          "output_type": "stream",
          "name": "stderr",
          "text": [
            "title : verb classes and alternations in bangla, german, english\n",
            "authors : d jones, r berwick, f cho, z khan, k kohl, n\n",
            "venue : and korean. technical report, massachusetts institute of\n",
            "\n",
            "title : verb classes and alternations in bangla, german, english, and korean\n",
            "authors : da jones, rc berwick, f cho, z khan, k kohl, n\n",
            "venue : None\n",
            "\n",
            "8/10 positive, 2/10 negative\n",
            "Do these records refer to the same thing?\n",
            "(y)es / (n)o / (u)nsure / (f)inished / (p)revious\n"
          ]
        },
        {
          "name": "stdout",
          "output_type": "stream",
          "text": [
            "u\n"
          ]
        },
        {
          "output_type": "stream",
          "name": "stderr",
          "text": [
            "title : report on the web dynamics workshop at www 2002\n",
            "authors : None\n",
            "venue : None\n",
            "\n",
            "title : report on the 3rd web dynamics workshop, at wwwi 1/2 2004\n",
            "authors : m levene, a poulovassilis\n",
            "venue : sigmod record,\n",
            "\n",
            "8/10 positive, 2/10 negative\n",
            "Do these records refer to the same thing?\n",
            "(y)es / (n)o / (u)nsure / (f)inished / (p)revious\n"
          ]
        },
        {
          "name": "stdout",
          "output_type": "stream",
          "text": [
            "n\n"
          ]
        },
        {
          "output_type": "stream",
          "name": "stderr",
          "text": [
            "title : amalgamating knowledge bases\n",
            "authors : v subrahmanian\n",
            "venue : acm trans. database syst.\n",
            "\n",
            "title : amalgamating knowledge bases, univ\n",
            "authors : vs subrahmanian\n",
            "venue : None\n",
            "\n",
            "8/10 positive, 3/10 negative\n",
            "Do these records refer to the same thing?\n",
            "(y)es / (n)o / (u)nsure / (f)inished / (p)revious\n"
          ]
        },
        {
          "name": "stdout",
          "output_type": "stream",
          "text": [
            "y\n"
          ]
        },
        {
          "output_type": "stream",
          "name": "stderr",
          "text": [
            "title : the garlic project\n",
            "authors : m roth, m arya, l haas, m carey, w cody, r fagin, p schwarz, j ii, e wimmers\n",
            "venue : sigmod conference\n",
            "\n",
            "title : the garlic project - group of 2 raquo\n",
            "authors : mt roth, m arya, l haas, m carey, w cody, r fagin,\n",
            "venue : proceedings of the 1996 acm sigmod international conference hellip,\n",
            "\n",
            "9/10 positive, 3/10 negative\n",
            "Do these records refer to the same thing?\n",
            "(y)es / (n)o / (u)nsure / (f)inished / (p)revious\n"
          ]
        },
        {
          "name": "stdout",
          "output_type": "stream",
          "text": [
            "u\n"
          ]
        },
        {
          "output_type": "stream",
          "name": "stderr",
          "text": [
            "title : learning to match ontologies\n",
            "authors : a doan, j madhavan, r dhamankar, p domingos, ay\n",
            "venue : vldb journal,\n",
            "\n",
            "title : learning to match ontologies on the semantic web\n",
            "authors : ah doan, j madhavan, r dhamankar, p domingos, a\n",
            "venue : the vldb journal the international journal on very large hellip,\n",
            "\n",
            "9/10 positive, 3/10 negative\n",
            "Do these records refer to the same thing?\n",
            "(y)es / (n)o / (u)nsure / (f)inished / (p)revious\n"
          ]
        },
        {
          "name": "stdout",
          "output_type": "stream",
          "text": [
            "y\n"
          ]
        },
        {
          "output_type": "stream",
          "name": "stderr",
          "text": [
            "title : range queries in olap data cubes, in i 1/2 sigmodi 1/2 97\n",
            "authors : ct ho, r agrawal, n megiddo, r srikant\n",
            "venue : hellip acm sigmod international conference on management of data,\n",
            "\n",
            "title : range queries in olap data cubes\n",
            "authors : h ch, r agrawal, n megiddo, r srikant\n",
            "venue : proc. acm sigmod int. conf. on management of data,\n",
            "\n",
            "10/10 positive, 3/10 negative\n",
            "Do these records refer to the same thing?\n",
            "(y)es / (n)o / (u)nsure / (f)inished / (p)revious\n"
          ]
        },
        {
          "name": "stdout",
          "output_type": "stream",
          "text": [
            "y\n"
          ]
        },
        {
          "output_type": "stream",
          "name": "stderr",
          "text": [
            "title : report on the fourth international conference on flexible query answering systems\n",
            "authors : None\n",
            "venue : None\n",
            "\n",
            "title : report on fqas 2002: fifth international conference on flexible query answering systems\n",
            "authors : a motro, t andreasen\n",
            "venue : sigmod record,\n",
            "\n",
            "11/10 positive, 3/10 negative\n",
            "Do these records refer to the same thing?\n",
            "(y)es / (n)o / (u)nsure / (f)inished / (p)revious\n"
          ]
        },
        {
          "name": "stdout",
          "output_type": "stream",
          "text": [
            "n\n"
          ]
        },
        {
          "output_type": "stream",
          "name": "stderr",
          "text": [
            "title : quantitative analysis and performance study for similaritysearch methods in high-dimensional spaces\n",
            "authors : r weber\n",
            "venue : proc. 24th int. conf. on very large\n",
            "\n",
            "title : quantitative analysis and performance study for similarity search methods in high-dimensional spaces\n",
            "authors : r weber, s hans-j, s blott\n",
            "venue : None\n",
            "\n",
            "11/10 positive, 4/10 negative\n",
            "Do these records refer to the same thing?\n",
            "(y)es / (n)o / (u)nsure / (f)inished / (p)revious\n"
          ]
        },
        {
          "name": "stdout",
          "output_type": "stream",
          "text": [
            "y\n"
          ]
        },
        {
          "output_type": "stream",
          "name": "stderr",
          "text": [
            "title : query execution techniques for caching expensive methods\n",
            "authors : j hellerstein, j naughton\n",
            "venue : sigmod conference\n",
            "\n",
            "title : query execution techniques forcaching expensive methods\n",
            "authors : jm hellerstein, j naughton\n",
            "venue : proc. of the acm sigmod intl. conferenceon managementof\n",
            "\n",
            "12/10 positive, 4/10 negative\n",
            "Do these records refer to the same thing?\n",
            "(y)es / (n)o / (u)nsure / (f)inished / (p)revious\n"
          ]
        },
        {
          "name": "stdout",
          "output_type": "stream",
          "text": [
            "y\n"
          ]
        },
        {
          "output_type": "stream",
          "name": "stderr",
          "text": [
            "title : intra-transaction parallelism in the mapping of an object model to a relational multi-processor system\n",
            "authors : m rys, m norrie, h schek\n",
            "venue : vldb\n",
            "\n",
            "title : intra-transaction parallelism in the mapping of an object model to a relational multi-processor\n",
            "authors : m rys, mc norrie, hj schek\n",
            "venue : vldb\n",
            "\n",
            "13/10 positive, 4/10 negative\n",
            "Do these records refer to the same thing?\n",
            "(y)es / (n)o / (u)nsure / (f)inished / (p)revious\n"
          ]
        },
        {
          "name": "stdout",
          "output_type": "stream",
          "text": [
            "y\n"
          ]
        },
        {
          "output_type": "stream",
          "name": "stderr",
          "text": [
            "title : modelling and querying video data\n",
            "authors : r hjelsvold, r midtstraum\n",
            "venue : vldb\n",
            "\n",
            "title : modeling and querying video data\n",
            "authors : r hielsvold, r midtstraum\n",
            "venue : proceedings of the 20 thinternational conference on vldb,\n",
            "\n",
            "14/10 positive, 4/10 negative\n",
            "Do these records refer to the same thing?\n",
            "(y)es / (n)o / (u)nsure / (f)inished / (p)revious\n"
          ]
        },
        {
          "name": "stdout",
          "output_type": "stream",
          "text": [
            "y\n"
          ]
        },
        {
          "output_type": "stream",
          "name": "stderr",
          "text": [
            "title : clio: a semi-automatic tool for schema mapping\n",
            "authors : m herni 1/2 ndez, r miller, l haas\n",
            "venue : sigmod conference\n",
            "\n",
            "title : clio: a semi-automatic tool for schema mapping, system demonstration\n",
            "authors : ma hernandez, rj miller, l haas, l yan, cth ho, x\n",
            "venue : proceedings of the acm sigmod, may, santa barbara, hellip,\n",
            "\n",
            "15/10 positive, 4/10 negative\n",
            "Do these records refer to the same thing?\n",
            "(y)es / (n)o / (u)nsure / (f)inished / (p)revious\n"
          ]
        },
        {
          "name": "stdout",
          "output_type": "stream",
          "text": [
            "y\n"
          ]
        },
        {
          "output_type": "stream",
          "name": "stderr",
          "text": [
            "title : data modelling versus ontology engineering, acm sigmod studer, r., vr benjamins, et al.(1998).quot\n",
            "authors : p spyns, r meersmani 1/2 i 1/2 \n",
            "venue : data and knowledge engineering,\n",
            "\n",
            "title : data modelling versus ontology engineering\n",
            "authors : r meersmani 1/2 i 1/2 \n",
            "venue : sigmod records,\n",
            "\n",
            "16/10 positive, 4/10 negative\n",
            "Do these records refer to the same thing?\n",
            "(y)es / (n)o / (u)nsure / (f)inished / (p)revious\n"
          ]
        },
        {
          "name": "stdout",
          "output_type": "stream",
          "text": [
            "y\n"
          ]
        },
        {
          "output_type": "stream",
          "name": "stderr",
          "text": [
            "title : oracles symmetric replication technology and implications for application design\n",
            "authors : d daniels, l doo, a downing, c elsbernd, g hallmark, s jain, b jenkins, p lim, g smith, b souder, j stamos\n",
            "venue : sigmod conference\n",
            "\n",
            "title : oraclei 1/2 s symmetric replication technology and implications for application design\n",
            "authors : d daniels\n",
            "venue : proceedings of the 1994 acm sigmod international conference\n",
            "\n",
            "17/10 positive, 4/10 negative\n",
            "Do these records refer to the same thing?\n",
            "(y)es / (n)o / (u)nsure / (f)inished / (p)revious\n"
          ]
        },
        {
          "name": "stdout",
          "output_type": "stream",
          "text": [
            "y\n"
          ]
        },
        {
          "output_type": "stream",
          "name": "stderr",
          "text": [
            "title : editors notes\n",
            "authors : None\n",
            "venue : None\n",
            "\n",
            "title : editors notes\n",
            "authors : j widom\n",
            "venue : sigmod record\n",
            "\n",
            "18/10 positive, 4/10 negative\n",
            "Do these records refer to the same thing?\n",
            "(y)es / (n)o / (u)nsure / (f)inished / (p)revious\n"
          ]
        },
        {
          "name": "stdout",
          "output_type": "stream",
          "text": [
            "u\n"
          ]
        },
        {
          "output_type": "stream",
          "name": "stderr",
          "text": [
            "title : chairs message\n",
            "authors : None\n",
            "venue : None\n",
            "\n",
            "title : chairs message\n",
            "authors : None\n",
            "venue : None\n",
            "\n",
            "18/10 positive, 4/10 negative\n",
            "Do these records refer to the same thing?\n",
            "(y)es / (n)o / (u)nsure / (f)inished / (p)revious\n"
          ]
        },
        {
          "name": "stdout",
          "output_type": "stream",
          "text": [
            "u\n"
          ]
        },
        {
          "output_type": "stream",
          "name": "stderr",
          "text": [
            "title : chairs message\n",
            "authors : None\n",
            "venue : None\n",
            "\n",
            "title : chairs message\n",
            "authors : None\n",
            "venue : None\n",
            "\n",
            "18/10 positive, 4/10 negative\n",
            "Do these records refer to the same thing?\n",
            "(y)es / (n)o / (u)nsure / (f)inished / (p)revious\n"
          ]
        },
        {
          "name": "stdout",
          "output_type": "stream",
          "text": [
            "u\n"
          ]
        },
        {
          "output_type": "stream",
          "name": "stderr",
          "text": [
            "title : chairs message\n",
            "authors : None\n",
            "venue : None\n",
            "\n",
            "title : chairs message\n",
            "authors : None\n",
            "venue : None\n",
            "\n",
            "18/10 positive, 4/10 negative\n",
            "Do these records refer to the same thing?\n",
            "(y)es / (n)o / (u)nsure / (f)inished / (p)revious\n"
          ]
        },
        {
          "name": "stdout",
          "output_type": "stream",
          "text": [
            "u\n"
          ]
        },
        {
          "output_type": "stream",
          "name": "stderr",
          "text": [
            "title : guest editorial\n",
            "authors : None\n",
            "venue : None\n",
            "\n",
            "title : guest editorial\n",
            "authors : gh rassool\n",
            "venue : journal of advanced nursing,\n",
            "\n",
            "18/10 positive, 4/10 negative\n",
            "Do these records refer to the same thing?\n",
            "(y)es / (n)o / (u)nsure / (f)inished / (p)revious\n"
          ]
        },
        {
          "name": "stdout",
          "output_type": "stream",
          "text": [
            "u\n"
          ]
        },
        {
          "output_type": "stream",
          "name": "stderr",
          "text": [
            "title : treasurers message\n",
            "authors : None\n",
            "venue : None\n",
            "\n",
            "title : treasurers message\n",
            "authors : None\n",
            "venue : None\n",
            "\n",
            "18/10 positive, 4/10 negative\n",
            "Do these records refer to the same thing?\n",
            "(y)es / (n)o / (u)nsure / (f)inished / (p)revious\n"
          ]
        },
        {
          "name": "stdout",
          "output_type": "stream",
          "text": [
            "u\n"
          ]
        },
        {
          "output_type": "stream",
          "name": "stderr",
          "text": [
            "title : chairs message\n",
            "authors : None\n",
            "venue : None\n",
            "\n",
            "title : chairs message\n",
            "authors : None\n",
            "venue : None\n",
            "\n",
            "18/10 positive, 4/10 negative\n",
            "Do these records refer to the same thing?\n",
            "(y)es / (n)o / (u)nsure / (f)inished / (p)revious\n"
          ]
        },
        {
          "name": "stdout",
          "output_type": "stream",
          "text": [
            "u\n"
          ]
        },
        {
          "output_type": "stream",
          "name": "stderr",
          "text": [
            "title : guest editorial\n",
            "authors : None\n",
            "venue : None\n",
            "\n",
            "title : guest editorial\n",
            "authors : h simon\n",
            "venue : public administration review,\n",
            "\n",
            "18/10 positive, 4/10 negative\n",
            "Do these records refer to the same thing?\n",
            "(y)es / (n)o / (u)nsure / (f)inished / (p)revious\n"
          ]
        },
        {
          "name": "stdout",
          "output_type": "stream",
          "text": [
            "u\n"
          ]
        },
        {
          "output_type": "stream",
          "name": "stderr",
          "text": [
            "title : chairs message\n",
            "authors : None\n",
            "venue : None\n",
            "\n",
            "title : chairs message\n",
            "authors : None\n",
            "venue : None\n",
            "\n",
            "18/10 positive, 4/10 negative\n",
            "Do these records refer to the same thing?\n",
            "(y)es / (n)o / (u)nsure / (f)inished / (p)revious\n"
          ]
        },
        {
          "name": "stdout",
          "output_type": "stream",
          "text": [
            "u\n"
          ]
        },
        {
          "output_type": "stream",
          "name": "stderr",
          "text": [
            "title : guest editorial\n",
            "authors : None\n",
            "venue : None\n",
            "\n",
            "title : guest editorial\n",
            "authors : lp hunt\n",
            "venue : None\n",
            "\n",
            "18/10 positive, 4/10 negative\n",
            "Do these records refer to the same thing?\n",
            "(y)es / (n)o / (u)nsure / (f)inished / (p)revious\n"
          ]
        },
        {
          "name": "stdout",
          "output_type": "stream",
          "text": [
            "u\n"
          ]
        },
        {
          "output_type": "stream",
          "name": "stderr",
          "text": [
            "title : chairs message\n",
            "authors : None\n",
            "venue : None\n",
            "\n",
            "title : chairs message\n",
            "authors : None\n",
            "venue : None\n",
            "\n",
            "18/10 positive, 4/10 negative\n",
            "Do these records refer to the same thing?\n",
            "(y)es / (n)o / (u)nsure / (f)inished / (p)revious\n"
          ]
        },
        {
          "name": "stdout",
          "output_type": "stream",
          "text": [
            "u\n"
          ]
        },
        {
          "output_type": "stream",
          "name": "stderr",
          "text": [
            "title : chairs message\n",
            "authors : None\n",
            "venue : None\n",
            "\n",
            "title : chairs message\n",
            "authors : None\n",
            "venue : None\n",
            "\n",
            "18/10 positive, 4/10 negative\n",
            "Do these records refer to the same thing?\n",
            "(y)es / (n)o / (u)nsure / (f)inished / (p)revious\n"
          ]
        },
        {
          "name": "stdout",
          "output_type": "stream",
          "text": [
            "u\n"
          ]
        },
        {
          "output_type": "stream",
          "name": "stderr",
          "text": [
            "title : editors notes\n",
            "authors : None\n",
            "venue : None\n",
            "\n",
            "title : editors notes\n",
            "authors : dw leslie\n",
            "venue : new directions for higher education,\n",
            "\n",
            "18/10 positive, 4/10 negative\n",
            "Do these records refer to the same thing?\n",
            "(y)es / (n)o / (u)nsure / (f)inished / (p)revious\n"
          ]
        },
        {
          "name": "stdout",
          "output_type": "stream",
          "text": [
            "u\n"
          ]
        },
        {
          "output_type": "stream",
          "name": "stderr",
          "text": [
            "title : guest editorial\n",
            "authors : None\n",
            "venue : None\n",
            "\n",
            "title : guest editorial\n",
            "authors : v atluri, a joshi, y yesha\n",
            "venue : the vldb journal the international journal on very large hellip,\n",
            "\n",
            "18/10 positive, 4/10 negative\n",
            "Do these records refer to the same thing?\n",
            "(y)es / (n)o / (u)nsure / (f)inished / (p)revious\n"
          ]
        },
        {
          "name": "stdout",
          "output_type": "stream",
          "text": [
            "u\n"
          ]
        },
        {
          "output_type": "stream",
          "name": "stderr",
          "text": [
            "title : editorial\n",
            "authors : None\n",
            "venue : None\n",
            "\n",
            "title : editorial\n",
            "authors : d ralph, s searby\n",
            "venue : bt technology journal,\n",
            "\n",
            "18/10 positive, 4/10 negative\n",
            "Do these records refer to the same thing?\n",
            "(y)es / (n)o / (u)nsure / (f)inished / (p)revious\n"
          ]
        },
        {
          "name": "stdout",
          "output_type": "stream",
          "text": [
            "u\n"
          ]
        },
        {
          "output_type": "stream",
          "name": "stderr",
          "text": [
            "title : chairs message\n",
            "authors : None\n",
            "venue : None\n",
            "\n",
            "title : chairs message\n",
            "authors : None\n",
            "venue : None\n",
            "\n",
            "18/10 positive, 4/10 negative\n",
            "Do these records refer to the same thing?\n",
            "(y)es / (n)o / (u)nsure / (f)inished / (p)revious\n"
          ]
        },
        {
          "name": "stdout",
          "output_type": "stream",
          "text": [
            "u\n"
          ]
        },
        {
          "output_type": "stream",
          "name": "stderr",
          "text": [
            "title : chairs message\n",
            "authors : None\n",
            "venue : None\n",
            "\n",
            "title : chairs message\n",
            "authors : None\n",
            "venue : None\n",
            "\n",
            "18/10 positive, 4/10 negative\n",
            "Do these records refer to the same thing?\n",
            "(y)es / (n)o / (u)nsure / (f)inished / (p)revious\n"
          ]
        },
        {
          "name": "stdout",
          "output_type": "stream",
          "text": [
            "u\n"
          ]
        },
        {
          "output_type": "stream",
          "name": "stderr",
          "text": [
            "title : keynote address\n",
            "authors : None\n",
            "venue : None\n",
            "\n",
            "title : keynote address\n",
            "authors : hbn hynes\n",
            "venue : proceedings of the international large river symposium (lars hellip,\n",
            "\n",
            "18/10 positive, 4/10 negative\n",
            "Do these records refer to the same thing?\n",
            "(y)es / (n)o / (u)nsure / (f)inished / (p)revious\n"
          ]
        },
        {
          "name": "stdout",
          "output_type": "stream",
          "text": [
            "u\n"
          ]
        },
        {
          "output_type": "stream",
          "name": "stderr",
          "text": [
            "title : editors notes\n",
            "authors : l liu\n",
            "venue : sigmod record\n",
            "\n",
            "title : editors notes\n",
            "authors : l liu\n",
            "venue : sigmod record\n",
            "\n",
            "18/10 positive, 4/10 negative\n",
            "Do these records refer to the same thing?\n",
            "(y)es / (n)o / (u)nsure / (f)inished / (p)revious\n"
          ]
        },
        {
          "name": "stdout",
          "output_type": "stream",
          "text": [
            "y\n"
          ]
        },
        {
          "output_type": "stream",
          "name": "stderr",
          "text": [
            "title : editors notes\n",
            "authors : l liu\n",
            "venue : sigmod record\n",
            "\n",
            "title : editors notes\n",
            "authors : l liu\n",
            "venue : sigmod record\n",
            "\n",
            "19/10 positive, 4/10 negative\n",
            "Do these records refer to the same thing?\n",
            "(y)es / (n)o / (u)nsure / (f)inished / (p)revious\n"
          ]
        },
        {
          "name": "stdout",
          "output_type": "stream",
          "text": [
            "y\n"
          ]
        },
        {
          "output_type": "stream",
          "name": "stderr",
          "text": [
            "title : support vector clustering\n",
            "authors : a ben-hur, d horn, ht siegelmann, v vapnik\n",
            "venue : journal of machine learning research,\n",
            "\n",
            "title : support vector cluster\n",
            "authors : a ben-hur, d horn, ht siegelmann, v vapnik\n",
            "venue : journal of machine learning research,\n",
            "\n",
            "20/10 positive, 4/10 negative\n",
            "Do these records refer to the same thing?\n",
            "(y)es / (n)o / (u)nsure / (f)inished / (p)revious\n"
          ]
        },
        {
          "name": "stdout",
          "output_type": "stream",
          "text": [
            "y\n"
          ]
        },
        {
          "output_type": "stream",
          "name": "stderr",
          "text": [
            "title : xml in action:web technology\n",
            "authors : wj pardi\n",
            "venue : None\n",
            "\n",
            "title : xml in action\n",
            "authors : wj pardi\n",
            "venue : None\n",
            "\n",
            "21/10 positive, 4/10 negative\n",
            "Do these records refer to the same thing?\n",
            "(y)es / (n)o / (u)nsure / (f)inished / (p)revious\n"
          ]
        },
        {
          "name": "stdout",
          "output_type": "stream",
          "text": [
            "y\n"
          ]
        },
        {
          "output_type": "stream",
          "name": "stderr",
          "text": [
            "title : modeling multidimensional databases:research report\n",
            "authors : r agrawal, a gupta, s sarawagi\n",
            "venue : ibm almaden research center, san jose, california,\n",
            "\n",
            "title : modeling multidimensional da abases\n",
            "authors : r agrawal, a gupta, s sarawagi\n",
            "venue : technical report, ibm almaden research center, 650 harry road,\n",
            "\n",
            "22/10 positive, 4/10 negative\n",
            "Do these records refer to the same thing?\n",
            "(y)es / (n)o / (u)nsure / (f)inished / (p)revious\n"
          ]
        },
        {
          "name": "stdout",
          "output_type": "stream",
          "text": [
            "y\n"
          ]
        },
        {
          "output_type": "stream",
          "name": "stderr",
          "text": [
            "title : persistent threads\n",
            "authors : f matthes, j schmidt\n",
            "venue : vldb\n",
            "\n",
            "title : persistent threads\n",
            "authors : f matthes, jw schmidt\n",
            "venue : proceedings of the international conference on very large hellip,\n",
            "\n",
            "23/10 positive, 4/10 negative\n",
            "Do these records refer to the same thing?\n",
            "(y)es / (n)o / (u)nsure / (f)inished / (p)revious\n"
          ]
        },
        {
          "name": "stdout",
          "output_type": "stream",
          "text": [
            "y\n"
          ]
        },
        {
          "output_type": "stream",
          "name": "stderr",
          "text": [
            "title : sagas\n",
            "authors : h gacia-molina, k salem\n",
            "venue : acm-sigmod international conference on management of data,\n",
            "\n",
            "title : sagas\n",
            "authors : h garcia-monina, k salem\n",
            "venue : proc. acm-sigmod international conference on management of hellip,\n",
            "\n",
            "24/10 positive, 4/10 negative\n",
            "Do these records refer to the same thing?\n",
            "(y)es / (n)o / (u)nsure / (f)inished / (p)revious\n"
          ]
        },
        {
          "name": "stdout",
          "output_type": "stream",
          "text": [
            "y\n"
          ]
        },
        {
          "output_type": "stream",
          "name": "stderr",
          "text": [
            "title : efficient view maintenance at data warehouses\n",
            "authors : d agrawal, a abbadi, a singh, t yurek\n",
            "venue : sigmod conference\n",
            "\n",
            "title : efficient view maintenanceat data warehouse\n",
            "authors : d agrawal, a el abbadi, a singh, t yurek\n",
            "venue : proceedings of the acm sigmod conference,\n",
            "\n",
            "25/10 positive, 4/10 negative\n",
            "Do these records refer to the same thing?\n",
            "(y)es / (n)o / (u)nsure / (f)inished / (p)revious\n"
          ]
        },
        {
          "name": "stdout",
          "output_type": "stream",
          "text": [
            "y\n"
          ]
        },
        {
          "output_type": "stream",
          "name": "stderr",
          "text": [
            "title : functional specifications ofa subsystem for database integrity\n",
            "authors : k eswaran, d chamberlin\n",
            "venue : proc. jc vldb,\n",
            "\n",
            "title : functional specifications of a subsystem for data base integrity\n",
            "authors : k eswaren, d chamberlin\n",
            "venue : proc. conf. on very large databases, acm,\n",
            "\n",
            "26/10 positive, 4/10 negative\n",
            "Do these records refer to the same thing?\n",
            "(y)es / (n)o / (u)nsure / (f)inished / (p)revious\n"
          ]
        },
        {
          "name": "stdout",
          "output_type": "stream",
          "text": [
            "y\n"
          ]
        },
        {
          "output_type": "stream",
          "name": "stderr",
          "text": [
            "title : aries/lm: an efficient and high concurrency index management method using write-ahead logging\n",
            "authors : c mohan, f levine\n",
            "venue : proceedings of the 1992 acm sigmod international conference hellip,\n",
            "\n",
            "title : aries/im: an efficient and high concurrency index management method using write-ahead\n",
            "authors : c mohan, f levine\n",
            "venue : None\n",
            "\n",
            "27/10 positive, 4/10 negative\n",
            "Do these records refer to the same thing?\n",
            "(y)es / (n)o / (u)nsure / (f)inished / (p)revious\n"
          ]
        },
        {
          "name": "stdout",
          "output_type": "stream",
          "text": [
            "y\n"
          ]
        },
        {
          "output_type": "stream",
          "name": "stderr",
          "text": [
            "title : synthesizing third normal form relations from functional dependencies\n",
            "authors : pa bernstein\n",
            "venue : acm transactions on database systems,\n",
            "\n",
            "title : synthesizing thiid normal form relations from functional dependencies\n",
            "authors : pa bernstein\n",
            "venue : acm trans. database syst.\n",
            "\n",
            "28/10 positive, 4/10 negative\n",
            "Do these records refer to the same thing?\n",
            "(y)es / (n)o / (u)nsure / (f)inished / (p)revious\n"
          ]
        },
        {
          "name": "stdout",
          "output_type": "stream",
          "text": [
            "y\n"
          ]
        },
        {
          "output_type": "stream",
          "name": "stderr",
          "text": [
            "title : nearest neighbor query\n",
            "authors : n roussopoulos, s kelly, f vincent\n",
            "venue : proc. of acm sigmod conf,\n",
            "\n",
            "title : nearest neighbor queries\n",
            "authors : n roussopoulos, s kelley, f vincent\n",
            "venue : proceedings of the 1995 acm sigmod international conference hellip,\n",
            "\n",
            "29/10 positive, 4/10 negative\n",
            "Do these records refer to the same thing?\n",
            "(y)es / (n)o / (u)nsure / (f)inished / (p)revious\n"
          ]
        },
        {
          "name": "stdout",
          "output_type": "stream",
          "text": [
            "y\n"
          ]
        },
        {
          "output_type": "stream",
          "name": "stderr",
          "text": [
            "title : sagas\n",
            "authors : h garcia-mohna, k salem\n",
            "venue : proc acm sigmod conf, may,\n",
            "\n",
            "title : sagas (database transactions)\n",
            "authors : h garcia-molina, k salem\n",
            "venue : sigmod record (acm special interest group on management of hellip,\n",
            "\n",
            "30/10 positive, 4/10 negative\n",
            "Do these records refer to the same thing?\n",
            "(y)es / (n)o / (u)nsure / (f)inished / (p)revious\n"
          ]
        },
        {
          "name": "stdout",
          "output_type": "stream",
          "text": [
            "y\n"
          ]
        },
        {
          "output_type": "stream",
          "name": "stderr",
          "text": [
            "title : xml programming\n",
            "authors : ra wyke, b leupen\n",
            "venue : None\n",
            "\n",
            "title : xml programming (core reference)\n",
            "authors : ra wyke, s rehman, b leupen\n",
            "venue : None\n",
            "\n",
            "31/10 positive, 4/10 negative\n",
            "Do these records refer to the same thing?\n",
            "(y)es / (n)o / (u)nsure / (f)inished / (p)revious\n"
          ]
        },
        {
          "name": "stdout",
          "output_type": "stream",
          "text": [
            "y\n"
          ]
        },
        {
          "output_type": "stream",
          "name": "stderr",
          "text": [
            "title : query processing for distance metrics\n",
            "authors : jtl wang, d shasha\n",
            "venue : vldb,\n",
            "\n",
            "title : query processingfor distance metrics\n",
            "authors : tl wang, d shasha\n",
            "venue : proc. of 16th vldb\n",
            "\n",
            "32/10 positive, 4/10 negative\n",
            "Do these records refer to the same thing?\n",
            "(y)es / (n)o / (u)nsure / (f)inished / (p)revious\n"
          ]
        },
        {
          "name": "stdout",
          "output_type": "stream",
          "text": [
            "y\n"
          ]
        },
        {
          "output_type": "stream",
          "name": "stderr",
          "text": [
            "title : scheduling policies for an on-demand video server with batching\n",
            "authors : a dan, d sitaram, p shahabuddin\n",
            "venue : None\n",
            "\n",
            "title : i 1/2 scheduling policies for an on-demand video server with batching,i 1/2 \n",
            "authors : a dean, d sitaram, p shahabuddin\n",
            "venue : proc. acm multimedia\n",
            "\n",
            "33/10 positive, 4/10 negative\n",
            "Do these records refer to the same thing?\n",
            "(y)es / (n)o / (u)nsure / (f)inished / (p)revious\n"
          ]
        },
        {
          "name": "stdout",
          "output_type": "stream",
          "text": [
            "y\n"
          ]
        },
        {
          "output_type": "stream",
          "name": "stderr",
          "text": [
            "title : on wrapping query languages and efficient xml integration\n",
            "authors : v christophides, s cluet, j simi 1/2 on\n",
            "venue : sigmod conference\n",
            "\n",
            "title : j. sim eon. on wrapping query languages and efficient xml integration full version . http: www-db.\n",
            "authors : v christophides, s cluet\n",
            "venue : None\n",
            "\n",
            "34/10 positive, 4/10 negative\n",
            "Do these records refer to the same thing?\n",
            "(y)es / (n)o / (u)nsure / (f)inished / (p)revious\n"
          ]
        },
        {
          "name": "stdout",
          "output_type": "stream",
          "text": [
            "y\n"
          ]
        },
        {
          "output_type": "stream",
          "name": "stderr",
          "text": [
            "title : query by image and video content: theqbicsystem\n",
            "authors : m flickner, h sawhney, w niblack, j ashley, q\n",
            "venue : ieee computer,\n",
            "\n",
            "title : wn et al. query by image and video content: the qbic system\n",
            "authors : m flickner, h sawhney\n",
            "venue : ieee computer magazine,\n",
            "\n",
            "35/10 positive, 4/10 negative\n",
            "Do these records refer to the same thing?\n",
            "(y)es / (n)o / (u)nsure / (f)inished / (p)revious\n"
          ]
        },
        {
          "name": "stdout",
          "output_type": "stream",
          "text": [
            "y\n"
          ]
        },
        {
          "output_type": "stream",
          "name": "stderr",
          "text": [
            "title : chorochronos: a research network for spatiotemporal database systems\n",
            "authors : a frank, s grumbach, r gi 1/2 ting, c jensen, m koubarakis, n lorentzos, y manolopoulos, e nardelli, b pernici, h schek, m scholl, t sellis, b theodoulidis, p widmayer\n",
            "venue : sigmod record\n",
            "\n",
            "title : chorochronosi 1/2 a research network for spatiotemporal database systems\n",
            "authors : a frank\n",
            "venue : acm sigmod record,\n",
            "\n",
            "36/10 positive, 4/10 negative\n",
            "Do these records refer to the same thing?\n",
            "(y)es / (n)o / (u)nsure / (f)inished / (p)revious\n"
          ]
        },
        {
          "name": "stdout",
          "output_type": "stream",
          "text": [
            "y\n"
          ]
        },
        {
          "output_type": "stream",
          "name": "stderr",
          "text": [
            "title : research issuesinspatial databases\n",
            "authors : o guenther, a buchmann\n",
            "venue : acm sigmod record,\n",
            "\n",
            "title : research issues in spatial databases\n",
            "authors : o gunther, a buchmann\n",
            "venue : acm sigmod record,\n",
            "\n",
            "37/10 positive, 4/10 negative\n",
            "Do these records refer to the same thing?\n",
            "(y)es / (n)o / (u)nsure / (f)inished / (p)revious\n"
          ]
        },
        {
          "name": "stdout",
          "output_type": "stream",
          "text": [
            "y\n"
          ]
        },
        {
          "output_type": "stream",
          "name": "stderr",
          "text": [
            "title : scheduling policy for an ondemand video server with batching\n",
            "authors : a dan, d sitaram, p shahabuddin\n",
            "venue : proc. acm\n",
            "\n",
            "title : scheduling policies for an on-demand video server with batching\n",
            "authors : add sitaram, p shahabuddin\n",
            "venue : proc. acm\n",
            "\n",
            "38/10 positive, 4/10 negative\n",
            "Do these records refer to the same thing?\n",
            "(y)es / (n)o / (u)nsure / (f)inished / (p)revious\n"
          ]
        },
        {
          "name": "stdout",
          "output_type": "stream",
          "text": [
            "y\n"
          ]
        },
        {
          "output_type": "stream",
          "name": "stderr",
          "text": [
            "title : extendible hashmg-a fast access method for dynamx fles\n",
            "authors : r fagm, j nlevergelt, n plppenger, hr strong\n",
            "venue : acm trans on database systems,\n",
            "\n",
            "title : extendible hashing-a fast access method for dynamic tiles\n",
            "authors : r facin, j nievergelt, n pippenger, hr strong\n",
            "venue : acm trans. database syst,\n",
            "\n",
            "39/10 positive, 4/10 negative\n",
            "Do these records refer to the same thing?\n",
            "(y)es / (n)o / (u)nsure / (f)inished / (p)revious\n"
          ]
        },
        {
          "name": "stdout",
          "output_type": "stream",
          "text": [
            "y\n"
          ]
        },
        {
          "output_type": "stream",
          "name": "stderr",
          "text": [
            "title : integratingcontentsandstructuresintextretrieval\n",
            "authors : r baeza-yates, g navarro\n",
            "venue : sigmod record,\n",
            "\n",
            "title : inc\n",
            "authors : c co\n",
            "venue : None\n",
            "\n",
            "40/10 positive, 4/10 negative\n",
            "Do these records refer to the same thing?\n",
            "(y)es / (n)o / (u)nsure / (f)inished / (p)revious\n"
          ]
        },
        {
          "name": "stdout",
          "output_type": "stream",
          "text": [
            "n\n"
          ]
        },
        {
          "output_type": "stream",
          "name": "stderr",
          "text": [
            "title : inside dymaic html\n",
            "authors : s issaacs\n",
            "venue : None\n",
            "\n",
            "title : inside dynamic html\n",
            "authors : s isaacs\n",
            "venue : None\n",
            "\n",
            "40/10 positive, 5/10 negative\n",
            "Do these records refer to the same thing?\n",
            "(y)es / (n)o / (u)nsure / (f)inished / (p)revious\n"
          ]
        },
        {
          "name": "stdout",
          "output_type": "stream",
          "text": [
            "y\n"
          ]
        },
        {
          "output_type": "stream",
          "name": "stderr",
          "text": [
            "title : 1993\n",
            "authors : a cypher\n",
            "venue : watch what i do: programming by\n",
            "\n",
            "title : 1993 grasparc: a problem solving environment integrating computation and visualization\n",
            "authors : k brodlie, l brankin, g banecki, a gay, a poon, h\n",
            "venue : nielson, gm, and d. bergeron, proceedings of ieee\n",
            "\n",
            "41/10 positive, 5/10 negative\n",
            "Do these records refer to the same thing?\n",
            "(y)es / (n)o / (u)nsure / (f)inished / (p)revious\n"
          ]
        },
        {
          "name": "stdout",
          "output_type": "stream",
          "text": [
            "n\n"
          ]
        },
        {
          "output_type": "stream",
          "name": "stderr",
          "text": [
            "title : query execution techniques forcaching expensive methods\n",
            "authors : jm hellerstein, j naughton\n",
            "venue : proc. of the acm sigmod intl. conferenceon managementof\n",
            "\n",
            "title : query execution strategies for caching expensive methods\n",
            "authors : j hellerstein, j naughton\n",
            "venue : proc. of the acm sigmod conf. on management of data,\n",
            "\n",
            "41/10 positive, 6/10 negative\n",
            "Do these records refer to the same thing?\n",
            "(y)es / (n)o / (u)nsure / (f)inished / (p)revious\n"
          ]
        },
        {
          "name": "stdout",
          "output_type": "stream",
          "text": [
            "y\n"
          ]
        },
        {
          "output_type": "stream",
          "name": "stderr",
          "text": [
            "title : report on the 8th international workshop on knowledge representation meets databases (krdb)\n",
            "authors : None\n",
            "venue : None\n",
            "\n",
            "title : testing of 8\n",
            "authors : a tripathi, c dipasquale, d barnhill, c jillings\n",
            "venue : pmts\n",
            "\n",
            "42/10 positive, 6/10 negative\n",
            "Do these records refer to the same thing?\n",
            "(y)es / (n)o / (u)nsure / (f)inished / (p)revious\n"
          ]
        },
        {
          "name": "stdout",
          "output_type": "stream",
          "text": [
            "n\n"
          ]
        },
        {
          "output_type": "stream",
          "name": "stderr",
          "text": [
            "title : chairs message\n",
            "authors : None\n",
            "venue : None\n",
            "\n",
            "title : quot i can do itquot: minority undergraduate science experiences and the professional career choice\n",
            "authors : rm hoyte, j collett\n",
            "venue : new directions for teaching and learning,\n",
            "\n",
            "42/10 positive, 7/10 negative\n",
            "Do these records refer to the same thing?\n",
            "(y)es / (n)o / (u)nsure / (f)inished / (p)revious\n"
          ]
        },
        {
          "name": "stdout",
          "output_type": "stream",
          "text": [
            "n\n"
          ]
        },
        {
          "output_type": "stream",
          "name": "stderr",
          "text": [
            "title : hints on test data selection: help for the practicing programmer\n",
            "authors : a richard\n",
            "venue : ieee computer,\n",
            "\n",
            "title : hints ontest dataselection: help forthe practicing programmer\n",
            "authors : ra demillo, rj lipton, fg sayward\n",
            "venue : ieee computer,\n",
            "\n",
            "42/10 positive, 8/10 negative\n",
            "Do these records refer to the same thing?\n",
            "(y)es / (n)o / (u)nsure / (f)inished / (p)revious\n"
          ]
        },
        {
          "name": "stdout",
          "output_type": "stream",
          "text": [
            "u\n"
          ]
        },
        {
          "output_type": "stream",
          "name": "stderr",
          "text": [
            "title : 1991 new directions for uncertainty reasoning in deductive databases\n",
            "authors : u guntzer, w kiesling, h thone\n",
            "venue : proc. 1991 acm\n",
            "\n",
            "title : 1991\n",
            "authors : ap sheth\n",
            "venue : acm sigmod record special issue on semantic issues in\n",
            "\n",
            "42/10 positive, 8/10 negative\n",
            "Do these records refer to the same thing?\n",
            "(y)es / (n)o / (u)nsure / (f)inished / (p)revious\n"
          ]
        },
        {
          "name": "stdout",
          "output_type": "stream",
          "text": [
            "n\n"
          ]
        },
        {
          "output_type": "stream",
          "name": "stderr",
          "text": [
            "title : colin\n",
            "authors : d nash\n",
            "venue : noaa, seattle, washington (brief telephone discussion), hellip,\n",
            "\n",
            "title : iodine-129 distribution and retention during evaporation of mllw solutions. 21st doe/nrc nuclear air\n",
            "authors : j amend, v motoi, fj herrmann, j furrer\n",
            "venue : san diego,\n",
            "\n",
            "42/10 positive, 9/10 negative\n",
            "Do these records refer to the same thing?\n",
            "(y)es / (n)o / (u)nsure / (f)inished / (p)revious\n"
          ]
        },
        {
          "name": "stdout",
          "output_type": "stream",
          "text": [
            "n\n"
          ]
        },
        {
          "output_type": "stream",
          "name": "stderr",
          "text": [
            "title : wireless lans\n",
            "authors : fj derfler jr, l freed\n",
            "venue : pc magazine,\n",
            "\n",
            "title : wireless lans: mobile computings second wave\n",
            "authors : l goldberg\n",
            "venue : electronic design,\n",
            "\n",
            "42/10 positive, 10/10 negative\n",
            "Do these records refer to the same thing?\n",
            "(y)es / (n)o / (u)nsure / (f)inished / (p)revious\n"
          ]
        },
        {
          "name": "stdout",
          "output_type": "stream",
          "text": [
            "n\n"
          ]
        },
        {
          "output_type": "stream",
          "name": "stderr",
          "text": [
            "title : wu wei\n",
            "authors : s lawson\n",
            "venue : proceedings of the 12th annual acm international conference hellip,\n",
            "\n",
            "title : i 1/2 i 1/2 i 1/2 i 1/2 i 1/2 i 1/2 a1i 1/2  i 1/2 i 1/2 i 1/2  i 1/2 i 1/2  i 1/2 i 1/2 i 1/2 i 1/2 i 1/2 i 1/2 \n",
            "authors : i 1/2  i 1/2 , i 1/2 i 1/2 i 1/2  i 1/2 i 1/2 , i 1/2 i 1/2 i 1/2  i 1/2 i 1/2 i 1/2 i 1/2 i 1/2 , i 1/2  i 1/2 \n",
            "venue : sigmod record,\n",
            "\n",
            "42/10 positive, 11/10 negative\n",
            "Do these records refer to the same thing?\n",
            "(y)es / (n)o / (u)nsure / (f)inished / (p)revious\n"
          ]
        },
        {
          "name": "stdout",
          "output_type": "stream",
          "text": [
            "n\n"
          ]
        },
        {
          "output_type": "stream",
          "name": "stderr",
          "text": [
            "title : rate-based query optimization for streaming information sources\n",
            "authors : s viglas, jf naughton\n",
            "venue : sigmod conference,\n",
            "\n",
            "title : rate-basedqueryoptimizationfor streaming information sources\n",
            "authors : njf viglase\n",
            "venue : proceedings of acm sigmod, madison, wi,\n",
            "\n",
            "42/10 positive, 12/10 negative\n",
            "Do these records refer to the same thing?\n",
            "(y)es / (n)o / (u)nsure / (f)inished / (p)revious\n"
          ]
        },
        {
          "name": "stdout",
          "output_type": "stream",
          "text": [
            "y\n"
          ]
        },
        {
          "output_type": "stream",
          "name": "stderr",
          "text": [
            "title : linear clustering of objects with multiple attributes\n",
            "authors : hvj jag901\n",
            "venue : proceedings of acm sigmod,\n",
            "\n",
            "title : linear clustering of objects with multiple attributes\n",
            "authors : j hv\n",
            "venue : proc. acm sigmod int. conf. on management of data,\n",
            "\n",
            "43/10 positive, 12/10 negative\n",
            "Do these records refer to the same thing?\n",
            "(y)es / (n)o / (u)nsure / (f)inished / (p)revious\n"
          ]
        },
        {
          "name": "stdout",
          "output_type": "stream",
          "text": [
            "y\n"
          ]
        },
        {
          "output_type": "stream",
          "name": "stderr",
          "text": [
            "title : solid state commun\n",
            "authors : m servidori, c ferrero, s lequien, s milita, a\n",
            "venue : None\n",
            "\n",
            "title : solid state commun\n",
            "authors : ts koh, yp feng, hn spector\n",
            "venue : None\n",
            "\n",
            "44/10 positive, 12/10 negative\n",
            "Do these records refer to the same thing?\n",
            "(y)es / (n)o / (u)nsure / (f)inished / (p)revious\n"
          ]
        },
        {
          "name": "stdout",
          "output_type": "stream",
          "text": [
            "u\n"
          ]
        },
        {
          "output_type": "stream",
          "name": "stderr",
          "text": [
            "title : 2000 end of year report on campus outreach initiatives\n",
            "authors : m casas, s fenstermaker\n",
            "venue : None\n",
            "\n",
            "title : 2000\n",
            "authors : gl fund\n",
            "venue : isbn,\n",
            "\n",
            "44/10 positive, 12/10 negative\n",
            "Do these records refer to the same thing?\n",
            "(y)es / (n)o / (u)nsure / (f)inished / (p)revious\n"
          ]
        },
        {
          "name": "stdout",
          "output_type": "stream",
          "text": [
            "n\n"
          ]
        },
        {
          "output_type": "stream",
          "name": "stderr",
          "text": [
            "title : users guide to llsol\n",
            "authors : p gill, s hammarling, w murray, m saunders, m\n",
            "venue : None\n",
            "\n",
            "title : usersguide\n",
            "authors : c visual\n",
            "venue : microsoft\n",
            "\n",
            "44/10 positive, 13/10 negative\n",
            "Do these records refer to the same thing?\n",
            "(y)es / (n)o / (u)nsure / (f)inished / (p)revious\n"
          ]
        },
        {
          "name": "stdout",
          "output_type": "stream",
          "text": [
            "n\n"
          ]
        },
        {
          "output_type": "stream",
          "name": "stderr",
          "text": [
            "title : ai 1/2 i 1/2  i 1/2 nonlinear functions for blind separation and equalization, ai 1/2 i 1/2 i 1/2  ph. d\n",
            "authors : h mathis\n",
            "venue : dissertation, eth zi 1/2 a 1/4  rich, zurich, switzerland, nov.\n",
            "\n",
            "title : eth\n",
            "authors : d mathematik\n",
            "venue : ch-8092 zurich, switzerland e-mail address: embrechts math.\n",
            "\n",
            "44/10 positive, 14/10 negative\n",
            "Do these records refer to the same thing?\n",
            "(y)es / (n)o / (u)nsure / (f)inished / (p)revious\n"
          ]
        },
        {
          "name": "stdout",
          "output_type": "stream",
          "text": [
            "n\n"
          ]
        },
        {
          "output_type": "stream",
          "name": "stderr",
          "text": [
            "title : rip it up\n",
            "authors : j king\n",
            "venue : computerworld,\n",
            "\n",
            "title : retrieving and transferring embodied data: implications for the management of interdependence within\n",
            "authors : a king\n",
            "venue : management science,\n",
            "\n",
            "44/10 positive, 15/10 negative\n",
            "Do these records refer to the same thing?\n",
            "(y)es / (n)o / (u)nsure / (f)inished / (p)revious\n"
          ]
        },
        {
          "name": "stdout",
          "output_type": "stream",
          "text": [
            "n\n"
          ]
        },
        {
          "output_type": "stream",
          "name": "stderr",
          "text": [
            "title : full text full text available on the publisher site publisher sitesource bt technology journal\n",
            "authors : p thompson\n",
            "venue : bt technology journal,\n",
            "\n",
            "title : full text full text available on the publisher site publisher sitesource bt technology journal\n",
            "authors : mt norris, pa martin\n",
            "venue : bt technology journal,\n",
            "\n",
            "44/10 positive, 16/10 negative\n",
            "Do these records refer to the same thing?\n",
            "(y)es / (n)o / (u)nsure / (f)inished / (p)revious\n"
          ]
        },
        {
          "name": "stdout",
          "output_type": "stream",
          "text": [
            "y\n"
          ]
        },
        {
          "output_type": "stream",
          "name": "stderr",
          "text": [
            "title : keynote address\n",
            "authors : p brown\n",
            "venue : european conference on hypertext (paris, 1990), cambridge hellip,\n",
            "\n",
            "title : keynote address\n",
            "authors : f baskett\n",
            "venue : international symposium on shared memory multiprocessing,\n",
            "\n",
            "45/10 positive, 16/10 negative\n",
            "Do these records refer to the same thing?\n",
            "(y)es / (n)o / (u)nsure / (f)inished / (p)revious\n"
          ]
        },
        {
          "name": "stdout",
          "output_type": "stream",
          "text": [
            "n\n"
          ]
        },
        {
          "output_type": "stream",
          "name": "stderr",
          "text": [
            "title : an introduction to fibonacci: a programming language for object databases\n",
            "authors : a albano, g ghelli, r orsini\n",
            "venue : None\n",
            "\n",
            "title : fibonacci: a programming language for object databases\n",
            "authors : a albano, g ghelli, r orsini\n",
            "venue : the vldb journal the international journal on very large hellip,\n",
            "\n",
            "45/10 positive, 17/10 negative\n",
            "Do these records refer to the same thing?\n",
            "(y)es / (n)o / (u)nsure / (f)inished / (p)revious\n"
          ]
        },
        {
          "name": "stdout",
          "output_type": "stream",
          "text": [
            "y\n"
          ]
        },
        {
          "output_type": "stream",
          "name": "stderr",
          "text": [
            "title : standards in practice\n",
            "authors : a eisenberg, j melton\n",
            "venue : sigmod record\n",
            "\n",
            "title : standards in practice\n",
            "authors : wia standard\n",
            "venue : sigmod record,\n",
            "\n",
            "46/10 positive, 17/10 negative\n",
            "Do these records refer to the same thing?\n",
            "(y)es / (n)o / (u)nsure / (f)inished / (p)revious\n"
          ]
        },
        {
          "name": "stdout",
          "output_type": "stream",
          "text": [
            "y\n"
          ]
        },
        {
          "output_type": "stream",
          "name": "stderr",
          "text": [
            "title : sagas\n",
            "authors : h garcia-monina, k salem\n",
            "venue : proc. acm-sigmod international conference on management of hellip,\n",
            "\n",
            "title : using semantic knowledge of transactions to increase concurrency\n",
            "authors : h garcia-molina\n",
            "venue : acm tods,\n",
            "\n",
            "47/10 positive, 17/10 negative\n",
            "Do these records refer to the same thing?\n",
            "(y)es / (n)o / (u)nsure / (f)inished / (p)revious\n"
          ]
        },
        {
          "name": "stdout",
          "output_type": "stream",
          "text": [
            "y\n"
          ]
        },
        {
          "output_type": "stream",
          "name": "stderr",
          "text": [
            "title : algorithmsfordeferred view maintenance\n",
            "authors : ls colby, t griffin, l libkin, is mumick, h\n",
            "venue : proc. of the acm sigmod\n",
            "\n",
            "title : algorithms for deferred view maintenance\n",
            "authors : ls colby, l libkin, is mumick, h trickey\n",
            "venue : sigmod conference,\n",
            "\n",
            "48/10 positive, 17/10 negative\n",
            "Do these records refer to the same thing?\n",
            "(y)es / (n)o / (u)nsure / (f)inished / (p)revious\n"
          ]
        },
        {
          "name": "stdout",
          "output_type": "stream",
          "text": [
            "y\n"
          ]
        },
        {
          "output_type": "stream",
          "name": "stderr",
          "text": [
            "title : apj\n",
            "authors : n walborni 1/2 i 1/2 \n",
            "venue : None\n",
            "\n",
            "title : apj\n",
            "authors : d williams, jf toland\n",
            "venue : None\n",
            "\n",
            "49/10 positive, 17/10 negative\n",
            "Do these records refer to the same thing?\n",
            "(y)es / (n)o / (u)nsure / (f)inished / (p)revious\n"
          ]
        },
        {
          "name": "stdout",
          "output_type": "stream",
          "text": [
            "n\n"
          ]
        },
        {
          "output_type": "stream",
          "name": "stderr",
          "text": [
            "title : mbone vcr-video conference on the mbone\n",
            "authors : w holfelder\n",
            "venue : proc. of acm\n",
            "\n",
            "title : mbone vcr (video): video conference recording on the mbone\n",
            "authors : w holfelder\n",
            "venue : proceedings of the third acm international conference on hellip,\n",
            "\n",
            "49/10 positive, 18/10 negative\n",
            "Do these records refer to the same thing?\n",
            "(y)es / (n)o / (u)nsure / (f)inished / (p)revious\n"
          ]
        },
        {
          "name": "stdout",
          "output_type": "stream",
          "text": [
            "y\n"
          ]
        },
        {
          "output_type": "stream",
          "name": "stderr",
          "text": [
            "title : generating spatiotemporal datasets on the www.\n",
            "authors : acms anthology\n",
            "venue : sigmod record,\n",
            "\n",
            "title : generating spatiotemporal datasets on the www\n",
            "authors : y theodoridos, m nascimento\n",
            "venue : acm sigmod record,\n",
            "\n",
            "50/10 positive, 18/10 negative\n",
            "Do these records refer to the same thing?\n",
            "(y)es / (n)o / (u)nsure / (f)inished / (p)revious\n"
          ]
        },
        {
          "name": "stdout",
          "output_type": "stream",
          "text": [
            "y\n"
          ]
        },
        {
          "output_type": "stream",
          "name": "stderr",
          "text": [
            "title : limitations of record based models\n",
            "authors : w kent\n",
            "venue : acm tods,\n",
            "\n",
            "title : limitations of record-oriented information models\n",
            "authors : w kent\n",
            "venue : acm trans. database syst,\n",
            "\n",
            "51/10 positive, 18/10 negative\n",
            "Do these records refer to the same thing?\n",
            "(y)es / (n)o / (u)nsure / (f)inished / (p)revious\n"
          ]
        },
        {
          "name": "stdout",
          "output_type": "stream",
          "text": [
            "y\n"
          ]
        },
        {
          "output_type": "stream",
          "name": "stderr",
          "text": [
            "title : c. pu. a practical and modular implementation of extended transaction models\n",
            "authors : rs barga\n",
            "venue : proc. of the 21st inti 1/2 l conf. on very large data\n",
            "\n",
            "title : c. pu. a practical and modular implementation of extended transaction models\n",
            "authors : rsb bp951\n",
            "venue : technical report ogi-cse95-004, department of computer science\n",
            "\n",
            "52/10 positive, 18/10 negative\n",
            "Do these records refer to the same thing?\n",
            "(y)es / (n)o / (u)nsure / (f)inished / (p)revious\n"
          ]
        },
        {
          "name": "stdout",
          "output_type": "stream",
          "text": [
            "y\n"
          ]
        },
        {
          "output_type": "stream",
          "name": "stderr",
          "text": [
            "title : approximate query answering using wavelets\n",
            "authors : k chakrabarti, m garofalakis, r rastogi, k shim\n",
            "venue : vldb journal,\n",
            "\n",
            "title : approximate query processing using wavelets\n",
            "authors : kc cgrs, mn garofalakis, r rastogi, k shim\n",
            "venue : proceedings of the international conference on very large\n",
            "\n",
            "53/10 positive, 18/10 negative\n",
            "Do these records refer to the same thing?\n",
            "(y)es / (n)o / (u)nsure / (f)inished / (p)revious\n"
          ]
        },
        {
          "name": "stdout",
          "output_type": "stream",
          "text": [
            "y\n"
          ]
        },
        {
          "output_type": "stream",
          "name": "stderr",
          "text": [
            "title : ogneupory\n",
            "authors : ae zhukovskaya, aa kortel, ea sherman, gm\n",
            "venue : no. i,\n",
            "\n",
            "title : ogneupory\n",
            "authors : ya pirogov, mi prokopenko, aa ivankovskiii 1/2 i 1/2 \n",
            "venue : no. i,\n",
            "\n",
            "54/10 positive, 18/10 negative\n",
            "Do these records refer to the same thing?\n",
            "(y)es / (n)o / (u)nsure / (f)inished / (p)revious\n"
          ]
        },
        {
          "name": "stdout",
          "output_type": "stream",
          "text": [
            "y\n"
          ]
        },
        {
          "output_type": "stream",
          "name": "stderr",
          "text": [
            "title : guest editorial\n",
            "authors : pa bernstein, y ioannidis, r ramakrishnan\n",
            "venue : the vldb journal the international journal on very large hellip,\n",
            "\n",
            "title : guest editorial: statistical mining and data visualization in atmospheric sciences\n",
            "authors : tj brown, pw mielke\n",
            "venue : data mining and knowledge discovery,\n",
            "\n",
            "55/10 positive, 18/10 negative\n",
            "Do these records refer to the same thing?\n",
            "(y)es / (n)o / (u)nsure / (f)inished / (p)revious\n"
          ]
        },
        {
          "name": "stdout",
          "output_type": "stream",
          "text": [
            "n\n"
          ]
        },
        {
          "output_type": "stream",
          "name": "stderr",
          "text": [
            "title : role and place of gas-cooled reactors in the structure of nuclear power production\n",
            "authors : ai kiryushin, nn ponomarev-stepnoi, es glushkovi 1/2 i 1/2 \n",
            "venue : at.\n",
            "\n",
            "title : role and place of gas-cooled reactors in the nuclear power supply structure\n",
            "authors : ai kiryushin, nn ponomarev-stepnoi, es glushkovi 1/2 i 1/2 \n",
            "venue : at.\n",
            "\n",
            "55/10 positive, 19/10 negative\n",
            "Do these records refer to the same thing?\n",
            "(y)es / (n)o / (u)nsure / (f)inished / (p)revious\n"
          ]
        },
        {
          "name": "stdout",
          "output_type": "stream",
          "text": [
            "y\n"
          ]
        },
        {
          "output_type": "stream",
          "name": "stderr",
          "text": [
            "title : mnras\n",
            "authors : c paroux, rg mcmahon, l storrie-lombardi, m irwin\n",
            "venue : None\n",
            "\n",
            "title : mnras\n",
            "authors : mb mosconi, pb tissera, dg lambas, sa cora\n",
            "venue : None\n",
            "\n",
            "56/10 positive, 19/10 negative\n",
            "Do these records refer to the same thing?\n",
            "(y)es / (n)o / (u)nsure / (f)inished / (p)revious\n"
          ]
        },
        {
          "name": "stdout",
          "output_type": "stream",
          "text": [
            "\n"
          ]
        },
        {
          "output_type": "stream",
          "name": "stderr",
          "text": [
            "(y)es / (n)o / (u)nsure / (f)inished / (p)revious\n"
          ]
        },
        {
          "name": "stdout",
          "output_type": "stream",
          "text": [
            "\n"
          ]
        },
        {
          "output_type": "stream",
          "name": "stderr",
          "text": [
            "(y)es / (n)o / (u)nsure / (f)inished / (p)revious\n"
          ]
        },
        {
          "name": "stdout",
          "output_type": "stream",
          "text": [
            "u\n"
          ]
        },
        {
          "output_type": "stream",
          "name": "stderr",
          "text": [
            "title : cscw: history and focus. jounal\n",
            "authors : j grudin\n",
            "venue : ieee computer,\n",
            "\n",
            "title : hist ory and focus\n",
            "authors : j grudin\n",
            "venue : ieee computer,\n",
            "\n",
            "56/10 positive, 19/10 negative\n",
            "Do these records refer to the same thing?\n",
            "(y)es / (n)o / (u)nsure / (f)inished / (p)revious\n"
          ]
        },
        {
          "name": "stdout",
          "output_type": "stream",
          "text": [
            "y\n"
          ]
        },
        {
          "output_type": "stream",
          "name": "stderr",
          "text": [
            "title : heraclitus: elevating deltas to be first-class citizens in a database programming language\n",
            "authors : s ghandeharizadeh, r hull, d jacobs\n",
            "venue : acm trans. database syst.\n",
            "\n",
            "title : heraclitus: elevating deltas to be first-class citizens in a database programming language\n",
            "authors : c damerell, d giddings, b kisielewski, g lutz, g\n",
            "venue : acm transactions on database systems,\n",
            "\n",
            "57/10 positive, 19/10 negative\n",
            "Do these records refer to the same thing?\n",
            "(y)es / (n)o / (u)nsure / (f)inished / (p)revious\n"
          ]
        },
        {
          "name": "stdout",
          "output_type": "stream",
          "text": [
            "u\n"
          ]
        },
        {
          "output_type": "stream",
          "name": "stderr",
          "text": [
            "title : apj\n",
            "authors : t maeshiroi 1/2 i 1/2 \n",
            "venue : None\n",
            "\n",
            "title : quot erase the board and turn off the lightquot: advice to novices about teaching.\n",
            "authors : pg beidleri 1/2 i 1/2 \n",
            "venue : new directions for teaching and learning,\n",
            "\n",
            "57/10 positive, 19/10 negative\n",
            "Do these records refer to the same thing?\n",
            "(y)es / (n)o / (u)nsure / (f)inished / (p)revious\n"
          ]
        },
        {
          "name": "stdout",
          "output_type": "stream",
          "text": [
            "n\n"
          ]
        },
        {
          "output_type": "stream",
          "name": "stderr",
          "text": [
            "title : differential reflectivity radar and aircraft measurements of melting hydrometeors- comparison with a\n",
            "authors : j vivekanandan, vn bringi, rm rasmussen, jd tuttle\n",
            "venue : conference on radar meteorology, 22 nd, zurich, switzerland, hellip,\n",
            "\n",
            "title : gabions\n",
            "authors : j fortune\n",
            "venue : None\n",
            "\n",
            "57/10 positive, 20/10 negative\n",
            "Do these records refer to the same thing?\n",
            "(y)es / (n)o / (u)nsure / (f)inished / (p)revious\n"
          ]
        },
        {
          "name": "stdout",
          "output_type": "stream",
          "text": [
            "n\n"
          ]
        },
        {
          "output_type": "stream",
          "name": "stderr",
          "text": [
            "title : the ri 1/2 -tree: an efficient androbust methodfor points andrectangles\n",
            "authors : n beckmann, hp kriegel, r schneider, b seeger\n",
            "venue : proceedings acm sigmod conference on management of data,\n",
            "\n",
            "title : b. seeger (1990) the rai 1/2 tree. an efficient and robust access method for points and rectangles\n",
            "authors : n beckmann, hp kriegel, r schneider\n",
            "venue : proc. acm sigmod\n",
            "\n",
            "57/10 positive, 21/10 negative\n",
            "Do these records refer to the same thing?\n",
            "(y)es / (n)o / (u)nsure / (f)inished / (p)revious\n"
          ]
        },
        {
          "name": "stdout",
          "output_type": "stream",
          "text": [
            "y\n"
          ]
        },
        {
          "output_type": "stream",
          "name": "stderr",
          "text": [
            "title : foreword\n",
            "authors : g shannon\n",
            "venue : bt technology journal,\n",
            "\n",
            "title : foreword\n",
            "authors : g davies\n",
            "venue : bt technology journal,\n",
            "\n",
            "58/10 positive, 21/10 negative\n",
            "Do these records refer to the same thing?\n",
            "(y)es / (n)o / (u)nsure / (f)inished / (p)revious\n"
          ]
        },
        {
          "name": "stdout",
          "output_type": "stream",
          "text": [
            "u\n"
          ]
        },
        {
          "output_type": "stream",
          "name": "stderr",
          "text": [
            "title : i 1/2 i 1/2 i 1/2 i 1/2 i 1/2  i 1/2 i 1/2  i 1/2  i 1/2 i 1/2  i 1/2  i 1/2 i 1/2 i 1/2 i 1/2  i 1/2 i 1/2 i 1/2 i 1/2 i 1/2 i 1/2 i 1/2 i 1/2 i 1/2 i 1/2  i 1/2 i 1/2  i 1/2 i 1/2  i 1/2 \n",
            "authors : i 1/2  i 1/2 i 1/2 i 1/2 i 1/2 , i 1/2  i 1/2 i 1/2 , i 1/2  i 1/2 i 1/2 , i 1/2 i 1/2 i 1/2  i 1/2 i 1/2 i 1/2 i 1/2 ,\n",
            "venue : sigmod record,\n",
            "\n",
            "title : steklo keram\n",
            "authors : ll cherninai 1/2 i 1/2 \n",
            "venue : no. i,\n",
            "\n",
            "58/10 positive, 21/10 negative\n",
            "Do these records refer to the same thing?\n",
            "(y)es / (n)o / (u)nsure / (f)inished / (p)revious\n"
          ]
        },
        {
          "name": "stdout",
          "output_type": "stream",
          "text": [
            "n\n"
          ]
        },
        {
          "output_type": "stream",
          "name": "stderr",
          "text": [
            "title : incremental maintenance of recursive views using relational calculus/sql\n",
            "authors : j su\n",
            "venue : sigmod record,\n",
            "\n",
            "title : magic cap\n",
            "authors : j sullivan\n",
            "venue : informal demonstration at sun microsystems, march,\n",
            "\n",
            "58/10 positive, 22/10 negative\n",
            "Do these records refer to the same thing?\n",
            "(y)es / (n)o / (u)nsure / (f)inished / (p)revious\n"
          ]
        },
        {
          "name": "stdout",
          "output_type": "stream",
          "text": [
            "n\n"
          ]
        },
        {
          "output_type": "stream",
          "name": "stderr",
          "text": [
            "title : editors notes\n",
            "authors : j widom\n",
            "venue : sigmod record\n",
            "\n",
            "title : editors notes\n",
            "authors : rh silkman\n",
            "venue : new directions for program evaluation,\n",
            "\n",
            "58/10 positive, 23/10 negative\n",
            "Do these records refer to the same thing?\n",
            "(y)es / (n)o / (u)nsure / (f)inished / (p)revious\n"
          ]
        },
        {
          "name": "stdout",
          "output_type": "stream",
          "text": [
            "u\n"
          ]
        },
        {
          "output_type": "stream",
          "name": "stderr",
          "text": [
            "title : academic press\n",
            "authors : eb davies, op semigroups\n",
            "venue : san diego,\n",
            "\n",
            "title : academic press\n",
            "authors : h haui 1/2 ecker, p geii 1/2 ler\n",
            "venue : san\n",
            "\n",
            "58/10 positive, 23/10 negative\n",
            "Do these records refer to the same thing?\n",
            "(y)es / (n)o / (u)nsure / (f)inished / (p)revious\n"
          ]
        },
        {
          "name": "stdout",
          "output_type": "stream",
          "text": [
            "n\n"
          ]
        },
        {
          "output_type": "stream",
          "name": "stderr",
          "text": [
            "title : inside distributed com\n",
            "authors : e guy, e henry\n",
            "venue : None\n",
            "\n",
            "title : inside distributed com\n",
            "authors : g eddon, h eddon\n",
            "venue : microsoft programming series,\n",
            "\n",
            "58/10 positive, 24/10 negative\n",
            "Do these records refer to the same thing?\n",
            "(y)es / (n)o / (u)nsure / (f)inished / (p)revious\n"
          ]
        },
        {
          "name": "stdout",
          "output_type": "stream",
          "text": [
            "u\n"
          ]
        },
        {
          "output_type": "stream",
          "name": "stderr",
          "text": [
            "title : editors notes\n",
            "authors : m franklin\n",
            "venue : sigmod record\n",
            "\n",
            "title : editors notes\n",
            "authors : r diem\n",
            "venue : social studies and the young learner,\n",
            "\n",
            "58/10 positive, 24/10 negative\n",
            "Do these records refer to the same thing?\n",
            "(y)es / (n)o / (u)nsure / (f)inished / (p)revious\n"
          ]
        },
        {
          "name": "stdout",
          "output_type": "stream",
          "text": [
            "n\n"
          ]
        },
        {
          "output_type": "stream",
          "name": "stderr",
          "text": [
            "title : blogs\n",
            "authors : r kay\n",
            "venue : computerworld,\n",
            "\n",
            "title : quickstudy: system development life cycle\n",
            "authors : r kay\n",
            "venue : computerworld,\n",
            "\n",
            "58/10 positive, 25/10 negative\n",
            "Do these records refer to the same thing?\n",
            "(y)es / (n)o / (u)nsure / (f)inished / (p)revious\n"
          ]
        },
        {
          "name": "stdout",
          "output_type": "stream",
          "text": [
            "n\n"
          ]
        },
        {
          "output_type": "stream",
          "name": "stderr",
          "text": [
            "title : recent bt patents\n",
            "authors : sm gannon\n",
            "venue : bt technology journal,\n",
            "\n",
            "title : recent bt patents\n",
            "authors : gns inventors\n",
            "venue : bt technology journal,\n",
            "\n",
            "58/10 positive, 26/10 negative\n",
            "Do these records refer to the same thing?\n",
            "(y)es / (n)o / (u)nsure / (f)inished / (p)revious\n"
          ]
        },
        {
          "name": "stdout",
          "output_type": "stream",
          "text": [
            "y\n"
          ]
        },
        {
          "output_type": "stream",
          "name": "stderr",
          "text": [
            "title : selection of views to materialize in a data warehouse\n",
            "authors : h gupta\n",
            "venue : None\n",
            "\n",
            "title : selection of views to materialize under a maintenance cost constraint\n",
            "authors : h gupta, is mumick\n",
            "venue : lecture notes in computer science,\n",
            "\n",
            "59/10 positive, 26/10 negative\n",
            "Do these records refer to the same thing?\n",
            "(y)es / (n)o / (u)nsure / (f)inished / (p)revious\n"
          ]
        },
        {
          "name": "stdout",
          "output_type": "stream",
          "text": [
            "y\n"
          ]
        },
        {
          "output_type": "stream",
          "name": "stderr",
          "text": [
            "title : w3qs: a query system for the world-wide web\n",
            "authors : d konopnicki, o shmueli\n",
            "venue : None\n",
            "\n",
            "title : w3qs: a query system for the world-wide web\n",
            "authors : o shmueli, d konopnicki\n",
            "venue : proc. of the internat. conf. on very large data\n",
            "\n",
            "60/10 positive, 26/10 negative\n",
            "Do these records refer to the same thing?\n",
            "(y)es / (n)o / (u)nsure / (f)inished / (p)revious\n"
          ]
        },
        {
          "name": "stdout",
          "output_type": "stream",
          "text": [
            "y\n"
          ]
        },
        {
          "output_type": "stream",
          "name": "stderr",
          "text": [
            "title : foreword\n",
            "authors : m bross\n",
            "venue : bt technology journal,\n",
            "\n",
            "title : foreword\n",
            "authors : f maryanski\n",
            "venue : the vldb journal the international journal on very large hellip,\n",
            "\n",
            "61/10 positive, 26/10 negative\n",
            "Do these records refer to the same thing?\n",
            "(y)es / (n)o / (u)nsure / (f)inished / (p)revious\n"
          ]
        },
        {
          "name": "stdout",
          "output_type": "stream",
          "text": [
            "n\n"
          ]
        },
        {
          "output_type": "stream",
          "name": "stderr",
          "text": [
            "title : distance browsing in spatial databases\n",
            "authors : t sellis, n roussopoulos\n",
            "venue : acm transactions on database systems (tods),\n",
            "\n",
            "title : distance browsing in spatial databases\n",
            "authors : h samet, g hjaltason\n",
            "venue : acm tods,\n",
            "\n",
            "61/10 positive, 27/10 negative\n",
            "Do these records refer to the same thing?\n",
            "(y)es / (n)o / (u)nsure / (f)inished / (p)revious\n"
          ]
        },
        {
          "name": "stdout",
          "output_type": "stream",
          "text": [
            "u\n"
          ]
        },
        {
          "output_type": "stream",
          "name": "stderr",
          "text": [
            "title : foreword\n",
            "authors : j shepherd\n",
            "venue : None\n",
            "\n",
            "title : foreword\n",
            "authors : f yates\n",
            "venue : None\n",
            "\n",
            "61/10 positive, 27/10 negative\n",
            "Do these records refer to the same thing?\n",
            "(y)es / (n)o / (u)nsure / (f)inished / (p)revious\n"
          ]
        },
        {
          "name": "stdout",
          "output_type": "stream",
          "text": [
            "u\n"
          ]
        },
        {
          "output_type": "stream",
          "name": "stderr",
          "text": [
            "title : c. yu.(2002). timber: a native xml database\n",
            "authors : hv jagadish, s al-khalifa, a chapman, lvs\n",
            "venue : the vldb\n",
            "\n",
            "title : timber: a native xml database\n",
            "authors : hv jagadish, s al-khalifa, a chapman, lvs\n",
            "venue : the vldb journal the international journal on very large hellip,\n",
            "\n",
            "61/10 positive, 27/10 negative\n",
            "Do these records refer to the same thing?\n",
            "(y)es / (n)o / (u)nsure / (f)inished / (p)revious\n"
          ]
        },
        {
          "name": "stdout",
          "output_type": "stream",
          "text": [
            "y\n"
          ]
        },
        {
          "output_type": "stream",
          "name": "stderr",
          "text": [
            "title : check-list of north american birds. 5th ed: baltimore\n",
            "authors : a ornithologistsunion\n",
            "venue : md,\n",
            "\n",
            "title : checklist of north american birds. 5 thed. am. ornithol. union. baltimore\n",
            "authors : a ornithologistsi 1/2 union\n",
            "venue : md,\n",
            "\n",
            "62/10 positive, 27/10 negative\n",
            "Do these records refer to the same thing?\n",
            "(y)es / (n)o / (u)nsure / (f)inished / (p)revious\n"
          ]
        },
        {
          "name": "stdout",
          "output_type": "stream",
          "text": [
            "y\n"
          ]
        },
        {
          "output_type": "stream",
          "name": "stderr",
          "text": [
            "title : relational databases for querying xml documents: limitations and opportunities\n",
            "authors : d dewitt, j naughton, j shanmugasundaram, k tufte,\n",
            "venue : proceedings of the 25th vldb conference,\n",
            "\n",
            "title : relational databases for querying xml documents: limitations and opportunities\n",
            "authors : jsktc zhangi 1/2 i 1/2 \n",
            "venue : proc. of vldb, edinburgh, september,\n",
            "\n",
            "63/10 positive, 27/10 negative\n",
            "Do these records refer to the same thing?\n",
            "(y)es / (n)o / (u)nsure / (f)inished / (p)revious\n"
          ]
        },
        {
          "name": "stdout",
          "output_type": "stream",
          "text": [
            "u\n"
          ]
        },
        {
          "output_type": "stream",
          "name": "stderr",
          "text": [
            "title : xquery: a query language for xml\n",
            "authors : None\n",
            "venue : None\n",
            "\n",
            "title : xquery: the xml query language\n",
            "authors : m brundage\n",
            "venue : None\n",
            "\n",
            "63/10 positive, 27/10 negative\n",
            "Do these records refer to the same thing?\n",
            "(y)es / (n)o / (u)nsure / (f)inished / (p)revious\n"
          ]
        },
        {
          "name": "stdout",
          "output_type": "stream",
          "text": [
            "y\n"
          ]
        },
        {
          "output_type": "stream",
          "name": "stderr",
          "text": [
            "title : publish/subscribe on the web at extreme speed\n",
            "authors : f oise fabret, i rocquencourt, f ois llirbat, j ao\n",
            "venue : None\n",
            "\n",
            "title : publish/subscribe on the web at extreme speed\n",
            "authors : j pereira, f fabret, f llirbat, r preotiuc-pietro,\n",
            "venue : vldb,\n",
            "\n",
            "64/10 positive, 27/10 negative\n",
            "Do these records refer to the same thing?\n",
            "(y)es / (n)o / (u)nsure / (f)inished / (p)revious\n"
          ]
        },
        {
          "name": "stdout",
          "output_type": "stream",
          "text": [
            "y\n"
          ]
        },
        {
          "output_type": "stream",
          "name": "stderr",
          "text": [
            "title : chairs message\n",
            "authors : None\n",
            "venue : None\n",
            "\n",
            "title : parallel computer systems: performance instrumentation and visualization\n",
            "authors : r koskela, m simmons\n",
            "venue : acm press frontier series,\n",
            "\n",
            "65/10 positive, 27/10 negative\n",
            "Do these records refer to the same thing?\n",
            "(y)es / (n)o / (u)nsure / (f)inished / (p)revious\n"
          ]
        },
        {
          "name": "stdout",
          "output_type": "stream",
          "text": [
            "n\n"
          ]
        },
        {
          "output_type": "stream",
          "name": "stderr",
          "text": [
            "title : editorial\n",
            "authors : p apers, s ceri, r snodgrass\n",
            "venue : the vldb journal the international journal on very large hellip,\n",
            "\n",
            "title : editorial\n",
            "authors : g cosier, p hughes\n",
            "venue : bt technology journal,\n",
            "\n",
            "65/10 positive, 28/10 negative\n",
            "Do these records refer to the same thing?\n",
            "(y)es / (n)o / (u)nsure / (f)inished / (p)revious\n"
          ]
        },
        {
          "name": "stdout",
          "output_type": "stream",
          "text": [
            "yu\n"
          ]
        },
        {
          "output_type": "stream",
          "name": "stderr",
          "text": [
            "(y)es / (n)o / (u)nsure / (f)inished / (p)revious\n"
          ]
        },
        {
          "name": "stdout",
          "output_type": "stream",
          "text": [
            "u\n"
          ]
        },
        {
          "output_type": "stream",
          "name": "stderr",
          "text": [
            "title : specifying mining algorithms with iterative user-defined aggregates\n",
            "authors : iud aggregates\n",
            "venue : ieee transactions on knowledge and data engineering,\n",
            "\n",
            "title : specifying mining algorithms with iterative user-defined aggregates\n",
            "authors : f giannotti, g manco\n",
            "venue : None\n",
            "\n",
            "65/10 positive, 28/10 negative\n",
            "Do these records refer to the same thing?\n",
            "(y)es / (n)o / (u)nsure / (f)inished / (p)revious\n"
          ]
        },
        {
          "name": "stdout",
          "output_type": "stream",
          "text": [
            "y\n"
          ]
        },
        {
          "output_type": "stream",
          "name": "stderr",
          "text": [
            "title : building light-weight wrappers for legacy web data-sources using w4f\n",
            "authors : a sahuguet, f azavant\n",
            "venue : vldb\n",
            "\n",
            "title : building light-weight wrappers for legacy web data-sources using w4f\n",
            "authors : f azavant, a sahuguet\n",
            "venue : international conference on very large databases (vldb),\n",
            "\n",
            "66/10 positive, 28/10 negative\n",
            "Do these records refer to the same thing?\n",
            "(y)es / (n)o / (u)nsure / (f)inished / (p)revious\n"
          ]
        },
        {
          "name": "stdout",
          "output_type": "stream",
          "text": [
            "y\n"
          ]
        },
        {
          "output_type": "stream",
          "name": "stderr",
          "text": [
            "title : genetic algorithms and their tuning\n",
            "authors : j kubalak, j laa 3/4 anska 1/2 \n",
            "venue : proceedings of casys3998 (dubois d.,\n",
            "\n",
            "title : genetic algorithms\n",
            "authors : kf man, ks tang, s kwong\n",
            "venue : None\n",
            "\n",
            "67/10 positive, 28/10 negative\n",
            "Do these records refer to the same thing?\n",
            "(y)es / (n)o / (u)nsure / (f)inished / (p)revious\n"
          ]
        },
        {
          "name": "stdout",
          "output_type": "stream",
          "text": [
            "n\n"
          ]
        },
        {
          "output_type": "stream",
          "name": "stderr",
          "text": [
            "title : pasj\n",
            "authors : y shirasakii 1/2 i 1/2 \n",
            "venue : None\n",
            "\n",
            "title : fabrication and testing of the solar dynamic ground test demonstration heat receiver\n",
            "authors : hj strumphi 1/2 i 1/2 \n",
            "venue : proc. 29th iecec,\n",
            "\n",
            "67/10 positive, 29/10 negative\n",
            "Do these records refer to the same thing?\n",
            "(y)es / (n)o / (u)nsure / (f)inished / (p)revious\n"
          ]
        },
        {
          "name": "stdout",
          "output_type": "stream",
          "text": [
            "n\n"
          ]
        },
        {
          "output_type": "stream",
          "name": "stderr",
          "text": [
            "title : a model of authorization for next-generation database systems\n",
            "authors : e bertino, w kim, f rabitti, d woelk\n",
            "venue : acm tods,\n",
            "\n",
            "title : a model of authorization for next-generation database systems\n",
            "authors : r fausto, b elisa, k won, w darrell\n",
            "venue : acm trans on database systems,\n",
            "\n",
            "67/10 positive, 30/10 negative\n",
            "Do these records refer to the same thing?\n",
            "(y)es / (n)o / (u)nsure / (f)inished / (p)revious\n"
          ]
        },
        {
          "name": "stdout",
          "output_type": "stream",
          "text": [
            "y\n"
          ]
        },
        {
          "output_type": "stream",
          "name": "stderr",
          "text": [
            "title : reminiscences on influential papers\n",
            "authors : ka ross\n",
            "venue : sigmod\n",
            "\n",
            "title : reminiscences on influential papers\n",
            "authors : hgm stanlbrd\n",
            "venue : sigmod record,\n",
            "\n",
            "68/10 positive, 30/10 negative\n",
            "Do these records refer to the same thing?\n",
            "(y)es / (n)o / (u)nsure / (f)inished / (p)revious\n"
          ]
        },
        {
          "name": "stdout",
          "output_type": "stream",
          "text": [
            "y\n"
          ]
        },
        {
          "output_type": "stream",
          "name": "stderr",
          "text": [
            "title : fast and reliable collision detection using graphics hardware\n",
            "authors : n govindaraju, m lin, d manocha\n",
            "venue : proc. of acm vrst,\n",
            "\n",
            "title : fast and reliable collision culling using graphicsprocessors\n",
            "authors : n govindaraju, m lin, d manocha\n",
            "venue : proc. of acm vrst,\n",
            "\n",
            "69/10 positive, 30/10 negative\n",
            "Do these records refer to the same thing?\n",
            "(y)es / (n)o / (u)nsure / (f)inished / (p)revious\n"
          ]
        },
        {
          "name": "stdout",
          "output_type": "stream",
          "text": [
            "yy\n"
          ]
        },
        {
          "output_type": "stream",
          "name": "stderr",
          "text": [
            "(y)es / (n)o / (u)nsure / (f)inished / (p)revious\n"
          ]
        },
        {
          "name": "stdout",
          "output_type": "stream",
          "text": [
            "u\n"
          ]
        },
        {
          "output_type": "stream",
          "name": "stderr",
          "text": [
            "title : editorial\n",
            "authors : s wright, a steventon\n",
            "venue : bt technology journal,\n",
            "\n",
            "title : editorial\n",
            "authors : mt norris, pa martin\n",
            "venue : bt technology journal,\n",
            "\n",
            "69/10 positive, 30/10 negative\n",
            "Do these records refer to the same thing?\n",
            "(y)es / (n)o / (u)nsure / (f)inished / (p)revious\n"
          ]
        },
        {
          "name": "stdout",
          "output_type": "stream",
          "text": [
            "u\n"
          ]
        },
        {
          "output_type": "stream",
          "name": "stderr",
          "text": [
            "title : low-cost, delay-bounded point-to-multipoint communication to support multicasting over wdm networks\n",
            "authors : tf znati, t alrabiah, r melhem\n",
            "venue : computer networks,\n",
            "\n",
            "title : low-cost, delay-bounded point-to-multipoint communication to support multicasting over wdm networks\n",
            "authors : fz taieb, a tawfigi 1/2 i 1/2 \n",
            "venue : computer\n",
            "\n",
            "69/10 positive, 30/10 negative\n",
            "Do these records refer to the same thing?\n",
            "(y)es / (n)o / (u)nsure / (f)inished / (p)revious\n"
          ]
        },
        {
          "name": "stdout",
          "output_type": "stream",
          "text": [
            "y\n"
          ]
        },
        {
          "output_type": "stream",
          "name": "stderr",
          "text": [
            "title : interview with authors\n",
            "authors : b landing\n",
            "venue : san diego,\n",
            "\n",
            "title : interview with authors\n",
            "authors : m melish\n",
            "venue : san diego,\n",
            "\n",
            "70/10 positive, 30/10 negative\n",
            "Do these records refer to the same thing?\n",
            "(y)es / (n)o / (u)nsure / (f)inished / (p)revious\n"
          ]
        },
        {
          "name": "stdout",
          "output_type": "stream",
          "text": [
            "n\n"
          ]
        },
        {
          "output_type": "stream",
          "name": "stderr",
          "text": [
            "title : yyj\n",
            "authors : u tietze\n",
            "venue : acc. chem. res,\n",
            "\n",
            "title : carbon nanotubes in electron donor-acceptor nanocomposites\n",
            "authors : dm guldi, gma rahman, f zerbetto, m prato\n",
            "venue : acc. chem. res,\n",
            "\n",
            "70/10 positive, 31/10 negative\n",
            "Do these records refer to the same thing?\n",
            "(y)es / (n)o / (u)nsure / (f)inished / (p)revious\n"
          ]
        },
        {
          "name": "stdout",
          "output_type": "stream",
          "text": [
            "n\n"
          ]
        },
        {
          "output_type": "stream",
          "name": "stderr",
          "text": [
            "title : using semantic knowledge of transactions to increase concurrency\n",
            "authors : aa farrag, mt oezsu\n",
            "venue : acm transactions on database systems,\n",
            "\n",
            "title : using semantic knowledge of transactions to increase concurrency\n",
            "authors : h garcia-molina\n",
            "venue : acm tods,\n",
            "\n",
            "70/10 positive, 32/10 negative\n",
            "Do these records refer to the same thing?\n",
            "(y)es / (n)o / (u)nsure / (f)inished / (p)revious\n"
          ]
        },
        {
          "name": "stdout",
          "output_type": "stream",
          "text": [
            "y\n"
          ]
        },
        {
          "output_type": "stream",
          "name": "stderr",
          "text": [
            "title : query processing in main memory database management systems\n",
            "authors : mj carey, tj lehman\n",
            "venue : proceedings of acm sigmod\n",
            "\n",
            "title : query processing in main memory database management systems\n",
            "authors : tj lehman, mj carey\n",
            "venue : proceedings of the 1986 acm sigmod international conference hellip,\n",
            "\n",
            "71/10 positive, 32/10 negative\n",
            "Do these records refer to the same thing?\n",
            "(y)es / (n)o / (u)nsure / (f)inished / (p)revious\n"
          ]
        },
        {
          "name": "stdout",
          "output_type": "stream",
          "text": [
            "y\n"
          ]
        },
        {
          "output_type": "stream",
          "name": "stderr",
          "text": [
            "title : guest editorial\n",
            "authors : m huhns, g weiss\n",
            "venue : machine learning,\n",
            "\n",
            "title : guest editorial\n",
            "authors : mp atkinson\n",
            "venue : the vldb journal the international journal on very large hellip,\n",
            "\n",
            "72/10 positive, 32/10 negative\n",
            "Do these records refer to the same thing?\n",
            "(y)es / (n)o / (u)nsure / (f)inished / (p)revious\n"
          ]
        },
        {
          "name": "stdout",
          "output_type": "stream",
          "text": [
            "u\n"
          ]
        },
        {
          "output_type": "stream",
          "name": "stderr",
          "text": [
            "title : integrating mining with relational database systems: alternativesandimplications\n",
            "authors : s sarawagi, s thomas, r agrawal\n",
            "venue : inacm sigmod international conference on management of data hellip,\n",
            "\n",
            "title : integrating mining with relational database systems: alternatives and implications\n",
            "authors : s sunita, t shiby, a rakesh\n",
            "venue : proceedings acm sigmod international conference on hellip,\n",
            "\n",
            "72/10 positive, 32/10 negative\n",
            "Do these records refer to the same thing?\n",
            "(y)es / (n)o / (u)nsure / (f)inished / (p)revious\n"
          ]
        },
        {
          "name": "stdout",
          "output_type": "stream",
          "text": [
            "n\n"
          ]
        },
        {
          "output_type": "stream",
          "name": "stderr",
          "text": [
            "title : foreword\n",
            "authors : rc nicol\n",
            "venue : bt technology journal,\n",
            "\n",
            "title : foreword\n",
            "authors : p danon\n",
            "venue : bt technology journal,\n",
            "\n",
            "72/10 positive, 33/10 negative\n",
            "Do these records refer to the same thing?\n",
            "(y)es / (n)o / (u)nsure / (f)inished / (p)revious\n"
          ]
        },
        {
          "name": "stdout",
          "output_type": "stream",
          "text": [
            "u\n"
          ]
        },
        {
          "output_type": "stream",
          "name": "stderr",
          "text": [
            "title : access methods for multiversion data\n",
            "authors : d lomet, b salzberg\n",
            "venue : proceedings of the 1989 acm sigmod international conference hellip,\n",
            "\n",
            "title : access methods for multiversion data\n",
            "authors : bj salzberg, d lomet\n",
            "venue : acmsigmod international conference on the management of\n",
            "\n",
            "72/10 positive, 33/10 negative\n",
            "Do these records refer to the same thing?\n",
            "(y)es / (n)o / (u)nsure / (f)inished / (p)revious\n"
          ]
        },
        {
          "name": "stdout",
          "output_type": "stream",
          "text": [
            "y\n"
          ]
        },
        {
          "output_type": "stream",
          "name": "stderr",
          "text": [
            "title : the indiana center for database systems at purdue university\n",
            "authors : m ouzzani, s prabhakar, js vitter, x zhang, wg\n",
            "venue : acm sigmod record,\n",
            "\n",
            "title : the indiana center for database systems at purdue university\n",
            "authors : mowga elisa, bac catlin, cwcwk hon, akea ghafoor,\n",
            "venue : sigmod record,\n",
            "\n",
            "73/10 positive, 33/10 negative\n",
            "Do these records refer to the same thing?\n",
            "(y)es / (n)o / (u)nsure / (f)inished / (p)revious\n"
          ]
        },
        {
          "name": "stdout",
          "output_type": "stream",
          "text": [
            "y\n"
          ]
        },
        {
          "output_type": "stream",
          "name": "stderr",
          "text": [
            "title : keynote address\n",
            "authors : r reich\n",
            "venue : hellip labor, bureau of international labor affairs, international hellip,\n",
            "\n",
            "title : keynote address\n",
            "authors : mks akyeampong\n",
            "venue : proceedings of ghana animal science association symposium,\n",
            "\n",
            "74/10 positive, 33/10 negative\n",
            "Do these records refer to the same thing?\n",
            "(y)es / (n)o / (u)nsure / (f)inished / (p)revious\n"
          ]
        },
        {
          "name": "stdout",
          "output_type": "stream",
          "text": [
            "n\n"
          ]
        },
        {
          "output_type": "stream",
          "name": "stderr",
          "text": [
            "title : biology of amphibians: mcgraw-hill\n",
            "authors : we duellman, l trueb\n",
            "venue : new york,\n",
            "\n",
            "title : biology of amphibians: the johns hopkins university press, baltimore\n",
            "authors : we duellman, l trueb\n",
            "venue : md,\n",
            "\n",
            "74/10 positive, 34/10 negative\n",
            "Do these records refer to the same thing?\n",
            "(y)es / (n)o / (u)nsure / (f)inished / (p)revious\n"
          ]
        },
        {
          "name": "stdout",
          "output_type": "stream",
          "text": [
            "y\n"
          ]
        },
        {
          "output_type": "stream",
          "name": "stderr",
          "text": [
            "title : pattern matching and pattern discovery in scientific, program, and document databases\n",
            "authors : j wang, k zhang, d shasha\n",
            "venue : sigmod conference\n",
            "\n",
            "title : pattern matching and pattern discovery in scientific, program, and document databases.\n",
            "authors : acms anthology, p edition\n",
            "venue : None\n",
            "\n",
            "75/10 positive, 34/10 negative\n",
            "Do these records refer to the same thing?\n",
            "(y)es / (n)o / (u)nsure / (f)inished / (p)revious\n"
          ]
        },
        {
          "name": "stdout",
          "output_type": "stream",
          "text": [
            "y\n"
          ]
        },
        {
          "output_type": "stream",
          "name": "stderr",
          "text": [
            "title : the r -tree: an efficient and robust access methodforpointsandrectangles\n",
            "authors : n beckmann, hp kriegel, r schneider, b seeger\n",
            "venue : proc. 1990 acm-sigmodint. conf. management of\n",
            "\n",
            "title : ther tree: anefficientandrobustindexmethodforpoints andrectangles\n",
            "authors : n beckmann, hp kriegel, r schneider, b seeger\n",
            "venue : proc. acm sigmod international conferenceonmanagementofdata, hellip,\n",
            "\n",
            "76/10 positive, 34/10 negative\n",
            "Do these records refer to the same thing?\n",
            "(y)es / (n)o / (u)nsure / (f)inished / (p)revious\n"
          ]
        },
        {
          "name": "stdout",
          "output_type": "stream",
          "text": [
            "y\n"
          ]
        },
        {
          "output_type": "stream",
          "name": "stderr",
          "text": [
            "title : the effective of gloss for the text database discovery problem\n",
            "authors : hgoms luisgravano, a tomasic\n",
            "venue : proc. of the acm sigmod conference, acm sigmod record,\n",
            "\n",
            "title : the efficiency of gloss for the text database discovery problem\n",
            "authors : l gravano, h garcia-molina, a tomasic\n",
            "venue : None\n",
            "\n",
            "77/10 positive, 34/10 negative\n",
            "Do these records refer to the same thing?\n",
            "(y)es / (n)o / (u)nsure / (f)inished / (p)revious\n"
          ]
        },
        {
          "name": "stdout",
          "output_type": "stream",
          "text": [
            "u\n"
          ]
        },
        {
          "output_type": "stream",
          "name": "stderr",
          "text": [
            "title : sagas\n",
            "authors : h garcia-molina, k salem\n",
            "venue : sigmod conference,\n",
            "\n",
            "title : a query language for multidimensional arrays: design, implementation, and optimization techniques\n",
            "authors : l libkin\n",
            "venue : sigmod conference,\n",
            "\n",
            "77/10 positive, 34/10 negative\n",
            "Do these records refer to the same thing?\n",
            "(y)es / (n)o / (u)nsure / (f)inished / (p)revious\n"
          ]
        },
        {
          "name": "stdout",
          "output_type": "stream",
          "text": [
            "n\n"
          ]
        },
        {
          "output_type": "stream",
          "name": "stderr",
          "text": [
            "title : interaction of query evaluation and buffer management for information retrieval\n",
            "authors : b ji 1/2 nsson, m franklin, d srivastava\n",
            "venue : sigmod conference\n",
            "\n",
            "title : ande\n",
            "authors : m carey, m franklin, m livny\n",
            "venue : hellip ,i 1/2  in proc. acm sigmod international conference on hellip,\n",
            "\n",
            "77/10 positive, 35/10 negative\n",
            "Do these records refer to the same thing?\n",
            "(y)es / (n)o / (u)nsure / (f)inished / (p)revious\n"
          ]
        },
        {
          "name": "stdout",
          "output_type": "stream",
          "text": [
            "n\n"
          ]
        },
        {
          "output_type": "stream",
          "name": "stderr",
          "text": [
            "title : private communication\n",
            "authors : rs boyer, js moore\n",
            "venue : boeing airplane co., seattle,\n",
            "\n",
            "title : private communication\n",
            "authors : p goldstein\n",
            "venue : unpublished\n",
            "\n",
            "77/10 positive, 36/10 negative\n",
            "Do these records refer to the same thing?\n",
            "(y)es / (n)o / (u)nsure / (f)inished / (p)revious\n"
          ]
        },
        {
          "name": "stdout",
          "output_type": "stream",
          "text": [
            "u\n"
          ]
        },
        {
          "output_type": "stream",
          "name": "stderr",
          "text": [
            "title : mining generalized association rules (expanded version)\n",
            "authors : r srikant, r agrawal\n",
            "venue : technical report rj9963, ibm research division, almaden research\n",
            "\n",
            "title : mining generalized association rules.p: 407 in: proceedings of the 21 stvery large data bases\n",
            "authors : r srikant, r agrawal\n",
            "venue : zurich, switzerland,\n",
            "\n",
            "77/10 positive, 36/10 negative\n",
            "Do these records refer to the same thing?\n",
            "(y)es / (n)o / (u)nsure / (f)inished / (p)revious\n"
          ]
        },
        {
          "name": "stdout",
          "output_type": "stream",
          "text": [
            "y\n"
          ]
        },
        {
          "output_type": "stream",
          "name": "stderr",
          "text": [
            "title : foreword\n",
            "authors : dg young\n",
            "venue : None\n",
            "\n",
            "title : foreword\n",
            "authors : i morphett\n",
            "venue : bt technology journal,\n",
            "\n",
            "78/10 positive, 36/10 negative\n",
            "Do these records refer to the same thing?\n",
            "(y)es / (n)o / (u)nsure / (f)inished / (p)revious\n"
          ]
        },
        {
          "name": "stdout",
          "output_type": "stream",
          "text": [
            "n\n"
          ]
        },
        {
          "output_type": "stream",
          "name": "stderr",
          "text": [
            "title : freshwater mollusks of the upper sacramento system, california, with particular reference to the\n",
            "authors : tj frest, ej johannes\n",
            "venue : deixis consultants, seattle, washington,\n",
            "\n",
            "title : freshwater mollusks of the upper klamath drainage, oregon\n",
            "authors : tj frest, ej johannes\n",
            "venue : hellip consultants, seattle, washington. oregon natural heritage hellip,\n",
            "\n",
            "78/10 positive, 37/10 negative\n",
            "Do these records refer to the same thing?\n",
            "(y)es / (n)o / (u)nsure / (f)inished / (p)revious\n"
          ]
        },
        {
          "name": "stdout",
          "output_type": "stream",
          "text": [
            "y\n"
          ]
        },
        {
          "output_type": "stream",
          "name": "stderr",
          "text": [
            "title : efficiently mining long patterns from databases\n",
            "authors : i 1/2 i 1/2 \n",
            "venue : sigmod record,\n",
            "\n",
            "title : efficiently mining long patterns from databases\n",
            "authors : rjb jr.\n",
            "venue : sigmod conference,\n",
            "\n",
            "79/10 positive, 37/10 negative\n",
            "Do these records refer to the same thing?\n",
            "(y)es / (n)o / (u)nsure / (f)inished / (p)revious\n"
          ]
        },
        {
          "name": "stdout",
          "output_type": "stream",
          "text": [
            "y\n"
          ]
        },
        {
          "output_type": "stream",
          "name": "stderr",
          "text": [
            "title : personal communication\n",
            "authors : n sandburg\n",
            "venue : biological consultant, santa barbara, california,\n",
            "\n",
            "title : personal communication\n",
            "authors : v semonsen\n",
            "venue : biologist, santa barbara, california,\n",
            "\n",
            "80/10 positive, 37/10 negative\n",
            "Do these records refer to the same thing?\n",
            "(y)es / (n)o / (u)nsure / (f)inished / (p)revious\n"
          ]
        },
        {
          "name": "stdout",
          "output_type": "stream",
          "text": [
            "u\n"
          ]
        },
        {
          "output_type": "stream",
          "name": "stderr",
          "text": [
            "title : a complete axiomatization for functional and multtvalued dependencies m database relations proc\n",
            "authors : c beer, r fagin, jh howard\n",
            "venue : acm-sigmod int. conf. management of data, toronto, canada, hellip,\n",
            "\n",
            "title : a complete axiomatization for functional and multivalued dependencies in database relations. jr\n",
            "authors : r fagin, c beeri, jh howard\n",
            "venue : proc. 1977 acm sigmod symposium, ed. dcp smith,\n",
            "\n",
            "80/10 positive, 37/10 negative\n",
            "Do these records refer to the same thing?\n",
            "(y)es / (n)o / (u)nsure / (f)inished / (p)revious\n"
          ]
        },
        {
          "name": "stdout",
          "output_type": "stream",
          "text": [
            "y\n"
          ]
        },
        {
          "output_type": "stream",
          "name": "stderr",
          "text": [
            "title : the r-tree: an efficientandrobustaccess methodforpoints andrectangles\n",
            "authors : n beckmann, h kriegel, r schneider, b seeger\n",
            "venue : proc. of the acm sigmod conference on management of data, hellip,\n",
            "\n",
            "title : the r-tree: an efficient and robust access method for points and rectangles\n",
            "authors : n katayama, s satoh\n",
            "venue : proc. of sigmod,\n",
            "\n",
            "81/10 positive, 37/10 negative\n",
            "Do these records refer to the same thing?\n",
            "(y)es / (n)o / (u)nsure / (f)inished / (p)revious\n"
          ]
        },
        {
          "name": "stdout",
          "output_type": "stream",
          "text": [
            "n\n"
          ]
        },
        {
          "output_type": "stream",
          "name": "stderr",
          "text": [
            "title : serfing the web: a comprehensive approach for web site management\n",
            "authors : ea rundensteiner, kt claypool, l chen, h su, k\n",
            "venue : demo session proceedings of sigmodi 1/2 00,\n",
            "\n",
            "title : drt\n",
            "authors : ac command\n",
            "venue : hellip tmd operational concept demonstration 93i 1/2 1.i 1/2 (u), january,\n",
            "\n",
            "81/10 positive, 38/10 negative\n",
            "Do these records refer to the same thing?\n",
            "(y)es / (n)o / (u)nsure / (f)inished / (p)revious\n"
          ]
        },
        {
          "name": "stdout",
          "output_type": "stream",
          "text": [
            "n\n"
          ]
        },
        {
          "output_type": "stream",
          "name": "stderr",
          "text": [
            "title : university of california\n",
            "authors : ch cognition\n",
            "venue : san\n",
            "\n",
            "title : university of california\n",
            "authors : t studies\n",
            "venue : san diego,\n",
            "\n",
            "81/10 positive, 39/10 negative\n",
            "Do these records refer to the same thing?\n",
            "(y)es / (n)o / (u)nsure / (f)inished / (p)revious\n"
          ]
        },
        {
          "name": "stdout",
          "output_type": "stream",
          "text": [
            "n\n"
          ]
        },
        {
          "output_type": "stream",
          "name": "stderr",
          "text": [
            "title : source acm sigmod record archive\n",
            "authors : t sellis, s mehrotra\n",
            "venue : acm sigmod record,\n",
            "\n",
            "title : source acm sigmod record archive\n",
            "authors : j clifford, r king\n",
            "venue : acm sigmod record,\n",
            "\n",
            "81/10 positive, 40/10 negative\n",
            "Do these records refer to the same thing?\n",
            "(y)es / (n)o / (u)nsure / (f)inished / (p)revious\n"
          ]
        },
        {
          "name": "stdout",
          "output_type": "stream",
          "text": [
            "y\n"
          ]
        },
        {
          "output_type": "stream",
          "name": "stderr",
          "text": [
            "title : report on the 1995 international workshop on temporal databases\n",
            "authors : None\n",
            "venue : None\n",
            "\n",
            "title : report on second international workshop on advanced issues of e-commerce and web-based information\n",
            "authors : kl wu, ps yu\n",
            "venue : sigmod record,\n",
            "\n",
            "82/10 positive, 40/10 negative\n",
            "Do these records refer to the same thing?\n",
            "(y)es / (n)o / (u)nsure / (f)inished / (p)revious\n"
          ]
        },
        {
          "name": "stdout",
          "output_type": "stream",
          "text": [
            "\n"
          ]
        },
        {
          "output_type": "stream",
          "name": "stderr",
          "text": [
            "(y)es / (n)o / (u)nsure / (f)inished / (p)revious\n"
          ]
        },
        {
          "name": "stdout",
          "output_type": "stream",
          "text": [
            "\n"
          ]
        },
        {
          "output_type": "stream",
          "name": "stderr",
          "text": [
            "(y)es / (n)o / (u)nsure / (f)inished / (p)revious\n"
          ]
        },
        {
          "name": "stdout",
          "output_type": "stream",
          "text": [
            "u\n"
          ]
        },
        {
          "output_type": "stream",
          "name": "stderr",
          "text": [
            "title : source international conference on management of data archive\n",
            "authors : s mehrotra, t sellis\n",
            "venue : proceedings of the 2001 acm sigmod international conference hellip,\n",
            "\n",
            "title : source international conference on management of data archive\n",
            "authors : m carey, d schneider\n",
            "venue : proceedings of the 1995 acm sigmod international conference hellip,\n",
            "\n",
            "82/10 positive, 40/10 negative\n",
            "Do these records refer to the same thing?\n",
            "(y)es / (n)o / (u)nsure / (f)inished / (p)revious\n"
          ]
        },
        {
          "name": "stdout",
          "output_type": "stream",
          "text": [
            "y\n"
          ]
        },
        {
          "output_type": "stream",
          "name": "stderr",
          "text": [
            "title : sophtsticates mtroducuon to data base normahzatlon theory proc 4th int\n",
            "authors : c beeri, pa bernstein, na goodman\n",
            "venue : conf. on very large data bases, west berhn, germany, sept,\n",
            "\n",
            "title : a sophisticates introduction to database normalization theory\n",
            "authors : c beeri, pa bernstein, n goodman\n",
            "venue : vldb,\n",
            "\n",
            "83/10 positive, 40/10 negative\n",
            "Do these records refer to the same thing?\n",
            "(y)es / (n)o / (u)nsure / (f)inished / (p)revious\n"
          ]
        },
        {
          "name": "stdout",
          "output_type": "stream",
          "text": [
            "y\n"
          ]
        },
        {
          "output_type": "stream",
          "name": "stderr",
          "text": [
            "title : freedom 1.0\n",
            "authors : p norton\n",
            "venue : pc magazine,\n",
            "\n",
            "title : the new peter norton programmers guide to the ibm pc amp ps2: the ultimate reference guide to the\n",
            "authors : p norton, r wilton\n",
            "venue : microsoft\n",
            "\n",
            "84/10 positive, 40/10 negative\n",
            "Do these records refer to the same thing?\n",
            "(y)es / (n)o / (u)nsure / (f)inished / (p)revious\n"
          ]
        },
        {
          "name": "stdout",
          "output_type": "stream",
          "text": [
            "u\n"
          ]
        },
        {
          "output_type": "stream",
          "name": "stderr",
          "text": [
            "title : chen p. p,quot the entity-relationship model-toward a unified view of data\n",
            "authors : pp chen\n",
            "venue : acm transactions on database systems,\n",
            "\n",
            "title : theentity-relationship modeli 1/2 towardaunified view of data\n",
            "authors : pp chen\n",
            "venue : acm transactions on database systems,\n",
            "\n",
            "84/10 positive, 40/10 negative\n",
            "Do these records refer to the same thing?\n",
            "(y)es / (n)o / (u)nsure / (f)inished / (p)revious\n"
          ]
        },
        {
          "name": "stdout",
          "output_type": "stream",
          "text": [
            "n\n"
          ]
        },
        {
          "output_type": "stream",
          "name": "stderr",
          "text": [
            "title : epa region 10 guidance for pacific northwest state and tribal temperature water quality standards\n",
            "authors : usep agency\n",
            "venue : seattle, washington. april,\n",
            "\n",
            "title : streamwatch manual\n",
            "authors : usep agency\n",
            "venue : None\n",
            "\n",
            "84/10 positive, 41/10 negative\n",
            "Do these records refer to the same thing?\n",
            "(y)es / (n)o / (u)nsure / (f)inished / (p)revious\n"
          ]
        },
        {
          "name": "stdout",
          "output_type": "stream",
          "text": [
            "n\n"
          ]
        },
        {
          "output_type": "stream",
          "name": "stderr",
          "text": [
            "title : source acm transactions on database systems (tods) archive\n",
            "authors : g wiederhold\n",
            "venue : acm transactions on database systems (tods),\n",
            "\n",
            "title : source acm transactions on database systems (tods) archive\n",
            "authors : rw taylor\n",
            "venue : acm transactions on database systems (tods),\n",
            "\n",
            "84/10 positive, 42/10 negative\n",
            "Do these records refer to the same thing?\n",
            "(y)es / (n)o / (u)nsure / (f)inished / (p)revious\n"
          ]
        },
        {
          "name": "stdout",
          "output_type": "stream",
          "text": [
            "\n"
          ]
        },
        {
          "output_type": "stream",
          "name": "stderr",
          "text": [
            "(y)es / (n)o / (u)nsure / (f)inished / (p)revious\n"
          ]
        },
        {
          "name": "stdout",
          "output_type": "stream",
          "text": [
            "\n"
          ]
        },
        {
          "output_type": "stream",
          "name": "stderr",
          "text": [
            "(y)es / (n)o / (u)nsure / (f)inished / (p)revious\n"
          ]
        },
        {
          "name": "stdout",
          "output_type": "stream",
          "text": [
            "u\n"
          ]
        },
        {
          "output_type": "stream",
          "name": "stderr",
          "text": [
            "title : temporal databases\n",
            "authors : rt snodgrass\n",
            "venue : None\n",
            "\n",
            "title : temporal databases\n",
            "authors : j chomicki\n",
            "venue : None\n",
            "\n",
            "84/10 positive, 42/10 negative\n",
            "Do these records refer to the same thing?\n",
            "(y)es / (n)o / (u)nsure / (f)inished / (p)revious\n"
          ]
        },
        {
          "name": "stdout",
          "output_type": "stream",
          "text": [
            "y\n"
          ]
        },
        {
          "output_type": "stream",
          "name": "stderr",
          "text": [
            "title : editors notes\n",
            "authors : m franklin\n",
            "venue : sigmod record\n",
            "\n",
            "title : editors notes\n",
            "authors : jh astrachan\n",
            "venue : None\n",
            "\n",
            "85/10 positive, 42/10 negative\n",
            "Do these records refer to the same thing?\n",
            "(y)es / (n)o / (u)nsure / (f)inished / (p)revious\n"
          ]
        },
        {
          "name": "stdout",
          "output_type": "stream",
          "text": [
            "\n"
          ]
        },
        {
          "output_type": "stream",
          "name": "stderr",
          "text": [
            "(y)es / (n)o / (u)nsure / (f)inished / (p)revious\n"
          ]
        },
        {
          "name": "stdout",
          "output_type": "stream",
          "text": [
            "\n"
          ]
        },
        {
          "output_type": "stream",
          "name": "stderr",
          "text": [
            "(y)es / (n)o / (u)nsure / (f)inished / (p)revious\n"
          ]
        },
        {
          "name": "stdout",
          "output_type": "stream",
          "text": [
            "u\n"
          ]
        },
        {
          "output_type": "stream",
          "name": "stderr",
          "text": [
            "title : recent bt patents\n",
            "authors : sj harris\n",
            "venue : bt technology journal,\n",
            "\n",
            "title : recent bt patents\n",
            "authors : u krohn\n",
            "venue : bt technology journal,\n",
            "\n",
            "85/10 positive, 42/10 negative\n",
            "Do these records refer to the same thing?\n",
            "(y)es / (n)o / (u)nsure / (f)inished / (p)revious\n"
          ]
        },
        {
          "name": "stdout",
          "output_type": "stream",
          "text": [
            "\n"
          ]
        },
        {
          "output_type": "stream",
          "name": "stderr",
          "text": [
            "(y)es / (n)o / (u)nsure / (f)inished / (p)revious\n"
          ]
        },
        {
          "name": "stdout",
          "output_type": "stream",
          "text": [
            "n\n"
          ]
        },
        {
          "output_type": "stream",
          "name": "stderr",
          "text": [
            "title : recent bt patents\n",
            "authors : mi strange\n",
            "venue : bt technology journal,\n",
            "\n",
            "title : recent bt patents\n",
            "authors : ftp saffre\n",
            "venue : bt technology journal,\n",
            "\n",
            "85/10 positive, 43/10 negative\n",
            "Do these records refer to the same thing?\n",
            "(y)es / (n)o / (u)nsure / (f)inished / (p)revious\n"
          ]
        },
        {
          "name": "stdout",
          "output_type": "stream",
          "text": [
            "n\n"
          ]
        },
        {
          "output_type": "stream",
          "name": "stderr",
          "text": [
            "title : foreword\n",
            "authors : d lemke\n",
            "venue : highlights of astronomy,\n",
            "\n",
            "title : foreword\n",
            "authors : r ackerley\n",
            "venue : bt technology journal,\n",
            "\n",
            "85/10 positive, 44/10 negative\n",
            "Do these records refer to the same thing?\n",
            "(y)es / (n)o / (u)nsure / (f)inished / (p)revious\n"
          ]
        },
        {
          "name": "stdout",
          "output_type": "stream",
          "text": [
            "\n"
          ]
        },
        {
          "output_type": "stream",
          "name": "stderr",
          "text": [
            "(y)es / (n)o / (u)nsure / (f)inished / (p)revious\n"
          ]
        },
        {
          "name": "stdout",
          "output_type": "stream",
          "text": [
            "\n",
            "\n"
          ]
        },
        {
          "output_type": "stream",
          "name": "stderr",
          "text": [
            "(y)es / (n)o / (u)nsure / (f)inished / (p)revious\n",
            "(y)es / (n)o / (u)nsure / (f)inished / (p)revious\n"
          ]
        },
        {
          "name": "stdout",
          "output_type": "stream",
          "text": [
            "\n"
          ]
        },
        {
          "output_type": "stream",
          "name": "stderr",
          "text": [
            "(y)es / (n)o / (u)nsure / (f)inished / (p)revious\n"
          ]
        },
        {
          "name": "stdout",
          "output_type": "stream",
          "text": [
            "\n"
          ]
        },
        {
          "output_type": "stream",
          "name": "stderr",
          "text": [
            "(y)es / (n)o / (u)nsure / (f)inished / (p)revious\n"
          ]
        },
        {
          "name": "stdout",
          "output_type": "stream",
          "text": [
            "\n"
          ]
        },
        {
          "output_type": "stream",
          "name": "stderr",
          "text": [
            "(y)es / (n)o / (u)nsure / (f)inished / (p)revious\n"
          ]
        },
        {
          "name": "stdout",
          "output_type": "stream",
          "text": [
            "\n"
          ]
        },
        {
          "output_type": "stream",
          "name": "stderr",
          "text": [
            "(y)es / (n)o / (u)nsure / (f)inished / (p)revious\n"
          ]
        },
        {
          "name": "stdout",
          "output_type": "stream",
          "text": [
            "\n"
          ]
        },
        {
          "output_type": "stream",
          "name": "stderr",
          "text": [
            "(y)es / (n)o / (u)nsure / (f)inished / (p)revious\n"
          ]
        },
        {
          "name": "stdout",
          "output_type": "stream",
          "text": [
            "u\n"
          ]
        },
        {
          "output_type": "stream",
          "name": "stderr",
          "text": [
            "title : research and practice in federated information systems\n",
            "authors : mr ii, gj houben, rd kutsche, k subieta, b rieger\n",
            "venue : sigmod record,\n",
            "\n",
            "title : research and practice in federated information systems\n",
            "authors : w hasselbring, wj van den heuvel, gj houben, rd\n",
            "venue : sigmod record,\n",
            "\n",
            "85/10 positive, 44/10 negative\n",
            "Do these records refer to the same thing?\n",
            "(y)es / (n)o / (u)nsure / (f)inished / (p)revious\n"
          ]
        },
        {
          "name": "stdout",
          "output_type": "stream",
          "text": [
            "y\n"
          ]
        },
        {
          "output_type": "stream",
          "name": "stderr",
          "text": [
            "title : terms of usage privacy policy code of ethics contact us\n",
            "authors : k woollard\n",
            "venue : bt technology journal,\n",
            "\n",
            "title : terms of usage privacy policy code of ethics contact us\n",
            "authors : pb domorski\n",
            "venue : bt technology journal,\n",
            "\n",
            "86/10 positive, 44/10 negative\n",
            "Do these records refer to the same thing?\n",
            "(y)es / (n)o / (u)nsure / (f)inished / (p)revious\n"
          ]
        },
        {
          "name": "stdout",
          "output_type": "stream",
          "text": [
            "y\n"
          ]
        },
        {
          "output_type": "stream",
          "name": "stderr",
          "text": [
            "title : spatial hash-joins\n",
            "authors : ml lo, cv ravishankar\n",
            "venue : proceedings of the 1996 acm sigmod international conference hellip,\n",
            "\n",
            "title : spatialhash-joins\n",
            "authors : rcv loml\n",
            "venue : proceedingsof acm sigmod conference, montreal,\n",
            "\n",
            "87/10 positive, 44/10 negative\n",
            "Do these records refer to the same thing?\n",
            "(y)es / (n)o / (u)nsure / (f)inished / (p)revious\n"
          ]
        },
        {
          "name": "stdout",
          "output_type": "stream",
          "text": [
            "y\n"
          ]
        },
        {
          "output_type": "stream",
          "name": "stderr",
          "text": [
            "title : source acm sigmod record archive\n",
            "authors : c zaniolo\n",
            "venue : acm sigmod record,\n",
            "\n",
            "title : source acm sigmod record archive\n",
            "authors : mh eich\n",
            "venue : acm sigmod record,\n",
            "\n",
            "88/10 positive, 44/10 negative\n",
            "Do these records refer to the same thing?\n",
            "(y)es / (n)o / (u)nsure / (f)inished / (p)revious\n"
          ]
        },
        {
          "name": "stdout",
          "output_type": "stream",
          "text": [
            "y\n"
          ]
        },
        {
          "output_type": "stream",
          "name": "stderr",
          "text": [
            "title : foreword\n",
            "authors : fmh schek\n",
            "venue : the vldb journal the international journal on very large hellip,\n",
            "\n",
            "title : foreword\n",
            "authors : t king\n",
            "venue : bt technology journal,\n",
            "\n",
            "89/10 positive, 44/10 negative\n",
            "Do these records refer to the same thing?\n",
            "(y)es / (n)o / (u)nsure / (f)inished / (p)revious\n"
          ]
        },
        {
          "name": "stdout",
          "output_type": "stream",
          "text": [
            "u\n"
          ]
        },
        {
          "output_type": "stream",
          "name": "stderr",
          "text": [
            "title : inc.(1999)\n",
            "authors : mset applications\n",
            "venue : final report-cold demonstration of\n",
            "\n",
            "title : inc\n",
            "authors : mt mtrials\n",
            "venue : san diego, ca,\n",
            "\n",
            "89/10 positive, 44/10 negative\n",
            "Do these records refer to the same thing?\n",
            "(y)es / (n)o / (u)nsure / (f)inished / (p)revious\n"
          ]
        },
        {
          "name": "stdout",
          "output_type": "stream",
          "text": [
            "y\n"
          ]
        },
        {
          "output_type": "stream",
          "name": "stderr",
          "text": [
            "title : foreword\n",
            "authors : r swale\n",
            "venue : bt technology journal,\n",
            "\n",
            "title : foreword\n",
            "authors : dm finch\n",
            "venue : None\n",
            "\n",
            "90/10 positive, 44/10 negative\n",
            "Do these records refer to the same thing?\n",
            "(y)es / (n)o / (u)nsure / (f)inished / (p)revious\n"
          ]
        },
        {
          "name": "stdout",
          "output_type": "stream",
          "text": [
            "f\n"
          ]
        },
        {
          "output_type": "stream",
          "name": "stderr",
          "text": [
            "Finished labeling\n"
          ]
        },
        {
          "output_type": "stream",
          "name": "stdout",
          "text": [
            "Clustering...\n"
          ]
        },
        {
          "output_type": "stream",
          "name": "stderr",
          "text": [
            "WARNING:dedupe.clustering:A component contained 58946 elements. Components larger than 30000 are re-filtered. The threshold for this filtering is 8.991136140494056e-05\n",
            "WARNING:dedupe.clustering:A component contained 58946 elements. Components larger than 30000 are re-filtered. The threshold for this filtering is 0.00024440176016571775\n",
            "WARNING:dedupe.clustering:A component contained 58925 elements. Components larger than 30000 are re-filtered. The threshold for this filtering is 0.0006640765224443745\n",
            "WARNING:dedupe.clustering:A component contained 58687 elements. Components larger than 30000 are re-filtered. The threshold for this filtering is 0.0018030978666854053\n",
            "WARNING:dedupe.clustering:A component contained 57668 elements. Components larger than 30000 are re-filtered. The threshold for this filtering is 0.004886193444344393\n",
            "WARNING:dedupe.clustering:A component contained 54829 elements. Components larger than 30000 are re-filtered. The threshold for this filtering is 0.013171480188788536\n",
            "WARNING:dedupe.clustering:A component contained 49144 elements. Components larger than 30000 are re-filtered. The threshold for this filtering is 0.035011437121918225\n",
            "WARNING:dedupe.clustering:A component contained 39195 elements. Components larger than 30000 are re-filtered. The threshold for this filtering is 0.08977046209633756\n"
          ]
        },
        {
          "output_type": "stream",
          "name": "stdout",
          "text": [
            "# duplicate sets 56383\n"
          ]
        }
      ]
    },
    {
      "cell_type": "code",
      "source": [
        ""
      ],
      "metadata": {
        "id": "yfvdE3zab5-g"
      },
      "execution_count": null,
      "outputs": []
    }
  ]
}